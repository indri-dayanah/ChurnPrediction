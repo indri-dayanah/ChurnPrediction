{
  "nbformat": 4,
  "nbformat_minor": 0,
  "metadata": {
    "colab": {
      "name": "Customer Churn Prediction.ipynb",
      "provenance": [],
      "collapsed_sections": []
    },
    "kernelspec": {
      "display_name": "Python 3",
      "name": "python3"
    }
  },
  "cells": [
    {
      "cell_type": "markdown",
      "metadata": {
        "id": "jMyPFkKf93I6"
      },
      "source": [
        "by:\r\n",
        "\r\n",
        "Resonance Grup\r\n",
        "- Christi Vidya\r\n",
        "- Indri Dayanah\r\n",
        "- Karenia Emeralda"
      ]
    },
    {
      "cell_type": "code",
      "metadata": {
        "id": "m7AQ8s8tvOG0"
      },
      "source": [
        "import numpy as np \r\n",
        "import pandas as pd\r\n",
        "import matplotlib.pyplot as plt\r\n",
        "import seaborn as sns\r\n",
        "from collections import Counter\r\n",
        "import warnings\r\n",
        "warnings.simplefilter('ignore')\r\n",
        "df = pd.read_csv('https://raw.githubusercontent.com/indri-dayanah/ChurnPrediction/main/data%20churn.csv',sep=',')"
      ],
      "execution_count": 1,
      "outputs": []
    },
    {
      "cell_type": "code",
      "metadata": {
        "colab": {
          "base_uri": "https://localhost:8080/",
          "height": 218
        },
        "id": "vKJytAv3nQNe",
        "outputId": "d4b38216-96fc-41dd-b77c-e7a46a4ead32"
      },
      "source": [
        "#Top 5 Data\r\n",
        "df.head()"
      ],
      "execution_count": 2,
      "outputs": [
        {
          "output_type": "execute_result",
          "data": {
            "text/html": [
              "<div>\n",
              "<style scoped>\n",
              "    .dataframe tbody tr th:only-of-type {\n",
              "        vertical-align: middle;\n",
              "    }\n",
              "\n",
              "    .dataframe tbody tr th {\n",
              "        vertical-align: top;\n",
              "    }\n",
              "\n",
              "    .dataframe thead th {\n",
              "        text-align: right;\n",
              "    }\n",
              "</style>\n",
              "<table border=\"1\" class=\"dataframe\">\n",
              "  <thead>\n",
              "    <tr style=\"text-align: right;\">\n",
              "      <th></th>\n",
              "      <th>state</th>\n",
              "      <th>account_length</th>\n",
              "      <th>area_code</th>\n",
              "      <th>international_plan</th>\n",
              "      <th>voice_mail_plan</th>\n",
              "      <th>number_vmail_messages</th>\n",
              "      <th>total_day_minutes</th>\n",
              "      <th>total_day_calls</th>\n",
              "      <th>total_day_charge</th>\n",
              "      <th>total_eve_minutes</th>\n",
              "      <th>total_eve_calls</th>\n",
              "      <th>total_eve_charge</th>\n",
              "      <th>total_night_minutes</th>\n",
              "      <th>total_night_calls</th>\n",
              "      <th>total_night_charge</th>\n",
              "      <th>total_intl_minutes</th>\n",
              "      <th>total_intl_calls</th>\n",
              "      <th>total_intl_charge</th>\n",
              "      <th>number_customer_service_calls</th>\n",
              "      <th>churn</th>\n",
              "    </tr>\n",
              "  </thead>\n",
              "  <tbody>\n",
              "    <tr>\n",
              "      <th>0</th>\n",
              "      <td>OH</td>\n",
              "      <td>107</td>\n",
              "      <td>area_code_415</td>\n",
              "      <td>no</td>\n",
              "      <td>yes</td>\n",
              "      <td>26</td>\n",
              "      <td>161.6</td>\n",
              "      <td>123</td>\n",
              "      <td>27.47</td>\n",
              "      <td>195.5</td>\n",
              "      <td>103</td>\n",
              "      <td>16.62</td>\n",
              "      <td>254.4</td>\n",
              "      <td>103</td>\n",
              "      <td>11.45</td>\n",
              "      <td>13.7</td>\n",
              "      <td>3</td>\n",
              "      <td>3.70</td>\n",
              "      <td>1</td>\n",
              "      <td>no</td>\n",
              "    </tr>\n",
              "    <tr>\n",
              "      <th>1</th>\n",
              "      <td>NJ</td>\n",
              "      <td>137</td>\n",
              "      <td>area_code_415</td>\n",
              "      <td>no</td>\n",
              "      <td>no</td>\n",
              "      <td>0</td>\n",
              "      <td>243.4</td>\n",
              "      <td>114</td>\n",
              "      <td>41.38</td>\n",
              "      <td>121.2</td>\n",
              "      <td>110</td>\n",
              "      <td>10.30</td>\n",
              "      <td>162.6</td>\n",
              "      <td>104</td>\n",
              "      <td>7.32</td>\n",
              "      <td>12.2</td>\n",
              "      <td>5</td>\n",
              "      <td>3.29</td>\n",
              "      <td>0</td>\n",
              "      <td>no</td>\n",
              "    </tr>\n",
              "    <tr>\n",
              "      <th>2</th>\n",
              "      <td>OH</td>\n",
              "      <td>84</td>\n",
              "      <td>area_code_408</td>\n",
              "      <td>yes</td>\n",
              "      <td>no</td>\n",
              "      <td>0</td>\n",
              "      <td>299.4</td>\n",
              "      <td>71</td>\n",
              "      <td>50.90</td>\n",
              "      <td>61.9</td>\n",
              "      <td>88</td>\n",
              "      <td>5.26</td>\n",
              "      <td>196.9</td>\n",
              "      <td>89</td>\n",
              "      <td>8.86</td>\n",
              "      <td>6.6</td>\n",
              "      <td>7</td>\n",
              "      <td>1.78</td>\n",
              "      <td>2</td>\n",
              "      <td>no</td>\n",
              "    </tr>\n",
              "    <tr>\n",
              "      <th>3</th>\n",
              "      <td>OK</td>\n",
              "      <td>75</td>\n",
              "      <td>area_code_415</td>\n",
              "      <td>yes</td>\n",
              "      <td>no</td>\n",
              "      <td>0</td>\n",
              "      <td>166.7</td>\n",
              "      <td>113</td>\n",
              "      <td>28.34</td>\n",
              "      <td>148.3</td>\n",
              "      <td>122</td>\n",
              "      <td>12.61</td>\n",
              "      <td>186.9</td>\n",
              "      <td>121</td>\n",
              "      <td>8.41</td>\n",
              "      <td>10.1</td>\n",
              "      <td>3</td>\n",
              "      <td>2.73</td>\n",
              "      <td>3</td>\n",
              "      <td>no</td>\n",
              "    </tr>\n",
              "    <tr>\n",
              "      <th>4</th>\n",
              "      <td>MA</td>\n",
              "      <td>121</td>\n",
              "      <td>area_code_510</td>\n",
              "      <td>no</td>\n",
              "      <td>yes</td>\n",
              "      <td>24</td>\n",
              "      <td>218.2</td>\n",
              "      <td>88</td>\n",
              "      <td>37.09</td>\n",
              "      <td>348.5</td>\n",
              "      <td>108</td>\n",
              "      <td>29.62</td>\n",
              "      <td>212.6</td>\n",
              "      <td>118</td>\n",
              "      <td>9.57</td>\n",
              "      <td>7.5</td>\n",
              "      <td>7</td>\n",
              "      <td>2.03</td>\n",
              "      <td>3</td>\n",
              "      <td>no</td>\n",
              "    </tr>\n",
              "  </tbody>\n",
              "</table>\n",
              "</div>"
            ],
            "text/plain": [
              "  state  account_length  ... number_customer_service_calls churn\n",
              "0    OH             107  ...                             1    no\n",
              "1    NJ             137  ...                             0    no\n",
              "2    OH              84  ...                             2    no\n",
              "3    OK              75  ...                             3    no\n",
              "4    MA             121  ...                             3    no\n",
              "\n",
              "[5 rows x 20 columns]"
            ]
          },
          "metadata": {
            "tags": []
          },
          "execution_count": 2
        }
      ]
    },
    {
      "cell_type": "markdown",
      "metadata": {
        "id": "zINDMyHllyqL"
      },
      "source": [
        "#EDA (Exploratory Data Analysis)"
      ]
    },
    {
      "cell_type": "code",
      "metadata": {
        "colab": {
          "base_uri": "https://localhost:8080/"
        },
        "id": "ashhtnA5lxb0",
        "outputId": "db02612f-916f-4e3c-d7c9-0d3b240f0f80"
      },
      "source": [
        "print('Ukuran dataset: %d baris dan %d kolom' %df.shape)\r\n",
        "\r\n",
        "print('\\nInfo dataset:')\r\n",
        "print(df.info())\r\n",
        "\r\n",
        "print('\\nDuplikasi data:', df.duplicated().sum())"
      ],
      "execution_count": 3,
      "outputs": [
        {
          "output_type": "stream",
          "text": [
            "Ukuran dataset: 4250 baris dan 20 kolom\n",
            "\n",
            "Info dataset:\n",
            "<class 'pandas.core.frame.DataFrame'>\n",
            "RangeIndex: 4250 entries, 0 to 4249\n",
            "Data columns (total 20 columns):\n",
            " #   Column                         Non-Null Count  Dtype  \n",
            "---  ------                         --------------  -----  \n",
            " 0   state                          4250 non-null   object \n",
            " 1   account_length                 4250 non-null   int64  \n",
            " 2   area_code                      4250 non-null   object \n",
            " 3   international_plan             4250 non-null   object \n",
            " 4   voice_mail_plan                4250 non-null   object \n",
            " 5   number_vmail_messages          4250 non-null   int64  \n",
            " 6   total_day_minutes              4250 non-null   float64\n",
            " 7   total_day_calls                4250 non-null   int64  \n",
            " 8   total_day_charge               4250 non-null   float64\n",
            " 9   total_eve_minutes              4250 non-null   float64\n",
            " 10  total_eve_calls                4250 non-null   int64  \n",
            " 11  total_eve_charge               4250 non-null   float64\n",
            " 12  total_night_minutes            4250 non-null   float64\n",
            " 13  total_night_calls              4250 non-null   int64  \n",
            " 14  total_night_charge             4250 non-null   float64\n",
            " 15  total_intl_minutes             4250 non-null   float64\n",
            " 16  total_intl_calls               4250 non-null   int64  \n",
            " 17  total_intl_charge              4250 non-null   float64\n",
            " 18  number_customer_service_calls  4250 non-null   int64  \n",
            " 19  churn                          4250 non-null   object \n",
            "dtypes: float64(8), int64(7), object(5)\n",
            "memory usage: 664.2+ KB\n",
            "None\n",
            "\n",
            "Duplikasi data: 0\n"
          ],
          "name": "stdout"
        }
      ]
    },
    {
      "cell_type": "markdown",
      "metadata": {
        "id": "gT-kJ_-d89M6"
      },
      "source": [
        "There's no missing value data"
      ]
    },
    {
      "cell_type": "markdown",
      "metadata": {
        "id": "kmZ92qBx700S"
      },
      "source": [
        "##Descriptive Analysis"
      ]
    },
    {
      "cell_type": "code",
      "metadata": {
        "colab": {
          "base_uri": "https://localhost:8080/",
          "height": 648
        },
        "id": "ou-Y8Z41vqgl",
        "outputId": "0f4da8f2-2c04-44cc-f5be-017bc3d508f7"
      },
      "source": [
        "df.describe(include='all').transpose()"
      ],
      "execution_count": 4,
      "outputs": [
        {
          "output_type": "execute_result",
          "data": {
            "text/html": [
              "<div>\n",
              "<style scoped>\n",
              "    .dataframe tbody tr th:only-of-type {\n",
              "        vertical-align: middle;\n",
              "    }\n",
              "\n",
              "    .dataframe tbody tr th {\n",
              "        vertical-align: top;\n",
              "    }\n",
              "\n",
              "    .dataframe thead th {\n",
              "        text-align: right;\n",
              "    }\n",
              "</style>\n",
              "<table border=\"1\" class=\"dataframe\">\n",
              "  <thead>\n",
              "    <tr style=\"text-align: right;\">\n",
              "      <th></th>\n",
              "      <th>count</th>\n",
              "      <th>unique</th>\n",
              "      <th>top</th>\n",
              "      <th>freq</th>\n",
              "      <th>mean</th>\n",
              "      <th>std</th>\n",
              "      <th>min</th>\n",
              "      <th>25%</th>\n",
              "      <th>50%</th>\n",
              "      <th>75%</th>\n",
              "      <th>max</th>\n",
              "    </tr>\n",
              "  </thead>\n",
              "  <tbody>\n",
              "    <tr>\n",
              "      <th>state</th>\n",
              "      <td>4250</td>\n",
              "      <td>51</td>\n",
              "      <td>WV</td>\n",
              "      <td>139</td>\n",
              "      <td>NaN</td>\n",
              "      <td>NaN</td>\n",
              "      <td>NaN</td>\n",
              "      <td>NaN</td>\n",
              "      <td>NaN</td>\n",
              "      <td>NaN</td>\n",
              "      <td>NaN</td>\n",
              "    </tr>\n",
              "    <tr>\n",
              "      <th>account_length</th>\n",
              "      <td>4250</td>\n",
              "      <td>NaN</td>\n",
              "      <td>NaN</td>\n",
              "      <td>NaN</td>\n",
              "      <td>100.236</td>\n",
              "      <td>39.6984</td>\n",
              "      <td>1</td>\n",
              "      <td>73</td>\n",
              "      <td>100</td>\n",
              "      <td>127</td>\n",
              "      <td>243</td>\n",
              "    </tr>\n",
              "    <tr>\n",
              "      <th>area_code</th>\n",
              "      <td>4250</td>\n",
              "      <td>3</td>\n",
              "      <td>area_code_415</td>\n",
              "      <td>2108</td>\n",
              "      <td>NaN</td>\n",
              "      <td>NaN</td>\n",
              "      <td>NaN</td>\n",
              "      <td>NaN</td>\n",
              "      <td>NaN</td>\n",
              "      <td>NaN</td>\n",
              "      <td>NaN</td>\n",
              "    </tr>\n",
              "    <tr>\n",
              "      <th>international_plan</th>\n",
              "      <td>4250</td>\n",
              "      <td>2</td>\n",
              "      <td>no</td>\n",
              "      <td>3854</td>\n",
              "      <td>NaN</td>\n",
              "      <td>NaN</td>\n",
              "      <td>NaN</td>\n",
              "      <td>NaN</td>\n",
              "      <td>NaN</td>\n",
              "      <td>NaN</td>\n",
              "      <td>NaN</td>\n",
              "    </tr>\n",
              "    <tr>\n",
              "      <th>voice_mail_plan</th>\n",
              "      <td>4250</td>\n",
              "      <td>2</td>\n",
              "      <td>no</td>\n",
              "      <td>3138</td>\n",
              "      <td>NaN</td>\n",
              "      <td>NaN</td>\n",
              "      <td>NaN</td>\n",
              "      <td>NaN</td>\n",
              "      <td>NaN</td>\n",
              "      <td>NaN</td>\n",
              "      <td>NaN</td>\n",
              "    </tr>\n",
              "    <tr>\n",
              "      <th>number_vmail_messages</th>\n",
              "      <td>4250</td>\n",
              "      <td>NaN</td>\n",
              "      <td>NaN</td>\n",
              "      <td>NaN</td>\n",
              "      <td>7.63176</td>\n",
              "      <td>13.4399</td>\n",
              "      <td>0</td>\n",
              "      <td>0</td>\n",
              "      <td>0</td>\n",
              "      <td>16</td>\n",
              "      <td>52</td>\n",
              "    </tr>\n",
              "    <tr>\n",
              "      <th>total_day_minutes</th>\n",
              "      <td>4250</td>\n",
              "      <td>NaN</td>\n",
              "      <td>NaN</td>\n",
              "      <td>NaN</td>\n",
              "      <td>180.26</td>\n",
              "      <td>54.0124</td>\n",
              "      <td>0</td>\n",
              "      <td>143.325</td>\n",
              "      <td>180.45</td>\n",
              "      <td>216.2</td>\n",
              "      <td>351.5</td>\n",
              "    </tr>\n",
              "    <tr>\n",
              "      <th>total_day_calls</th>\n",
              "      <td>4250</td>\n",
              "      <td>NaN</td>\n",
              "      <td>NaN</td>\n",
              "      <td>NaN</td>\n",
              "      <td>99.9073</td>\n",
              "      <td>19.8508</td>\n",
              "      <td>0</td>\n",
              "      <td>87</td>\n",
              "      <td>100</td>\n",
              "      <td>113</td>\n",
              "      <td>165</td>\n",
              "    </tr>\n",
              "    <tr>\n",
              "      <th>total_day_charge</th>\n",
              "      <td>4250</td>\n",
              "      <td>NaN</td>\n",
              "      <td>NaN</td>\n",
              "      <td>NaN</td>\n",
              "      <td>30.6447</td>\n",
              "      <td>9.1821</td>\n",
              "      <td>0</td>\n",
              "      <td>24.365</td>\n",
              "      <td>30.68</td>\n",
              "      <td>36.75</td>\n",
              "      <td>59.76</td>\n",
              "    </tr>\n",
              "    <tr>\n",
              "      <th>total_eve_minutes</th>\n",
              "      <td>4250</td>\n",
              "      <td>NaN</td>\n",
              "      <td>NaN</td>\n",
              "      <td>NaN</td>\n",
              "      <td>200.174</td>\n",
              "      <td>50.2495</td>\n",
              "      <td>0</td>\n",
              "      <td>165.925</td>\n",
              "      <td>200.7</td>\n",
              "      <td>233.775</td>\n",
              "      <td>359.3</td>\n",
              "    </tr>\n",
              "    <tr>\n",
              "      <th>total_eve_calls</th>\n",
              "      <td>4250</td>\n",
              "      <td>NaN</td>\n",
              "      <td>NaN</td>\n",
              "      <td>NaN</td>\n",
              "      <td>100.176</td>\n",
              "      <td>19.9086</td>\n",
              "      <td>0</td>\n",
              "      <td>87</td>\n",
              "      <td>100</td>\n",
              "      <td>114</td>\n",
              "      <td>170</td>\n",
              "    </tr>\n",
              "    <tr>\n",
              "      <th>total_eve_charge</th>\n",
              "      <td>4250</td>\n",
              "      <td>NaN</td>\n",
              "      <td>NaN</td>\n",
              "      <td>NaN</td>\n",
              "      <td>17.015</td>\n",
              "      <td>4.27121</td>\n",
              "      <td>0</td>\n",
              "      <td>14.1025</td>\n",
              "      <td>17.06</td>\n",
              "      <td>19.8675</td>\n",
              "      <td>30.54</td>\n",
              "    </tr>\n",
              "    <tr>\n",
              "      <th>total_night_minutes</th>\n",
              "      <td>4250</td>\n",
              "      <td>NaN</td>\n",
              "      <td>NaN</td>\n",
              "      <td>NaN</td>\n",
              "      <td>200.528</td>\n",
              "      <td>50.3535</td>\n",
              "      <td>0</td>\n",
              "      <td>167.225</td>\n",
              "      <td>200.45</td>\n",
              "      <td>234.7</td>\n",
              "      <td>395</td>\n",
              "    </tr>\n",
              "    <tr>\n",
              "      <th>total_night_calls</th>\n",
              "      <td>4250</td>\n",
              "      <td>NaN</td>\n",
              "      <td>NaN</td>\n",
              "      <td>NaN</td>\n",
              "      <td>99.8395</td>\n",
              "      <td>20.0932</td>\n",
              "      <td>0</td>\n",
              "      <td>86</td>\n",
              "      <td>100</td>\n",
              "      <td>113</td>\n",
              "      <td>175</td>\n",
              "    </tr>\n",
              "    <tr>\n",
              "      <th>total_night_charge</th>\n",
              "      <td>4250</td>\n",
              "      <td>NaN</td>\n",
              "      <td>NaN</td>\n",
              "      <td>NaN</td>\n",
              "      <td>9.02389</td>\n",
              "      <td>2.26592</td>\n",
              "      <td>0</td>\n",
              "      <td>7.5225</td>\n",
              "      <td>9.02</td>\n",
              "      <td>10.56</td>\n",
              "      <td>17.77</td>\n",
              "    </tr>\n",
              "    <tr>\n",
              "      <th>total_intl_minutes</th>\n",
              "      <td>4250</td>\n",
              "      <td>NaN</td>\n",
              "      <td>NaN</td>\n",
              "      <td>NaN</td>\n",
              "      <td>10.2561</td>\n",
              "      <td>2.7601</td>\n",
              "      <td>0</td>\n",
              "      <td>8.5</td>\n",
              "      <td>10.3</td>\n",
              "      <td>12</td>\n",
              "      <td>20</td>\n",
              "    </tr>\n",
              "    <tr>\n",
              "      <th>total_intl_calls</th>\n",
              "      <td>4250</td>\n",
              "      <td>NaN</td>\n",
              "      <td>NaN</td>\n",
              "      <td>NaN</td>\n",
              "      <td>4.42635</td>\n",
              "      <td>2.46307</td>\n",
              "      <td>0</td>\n",
              "      <td>3</td>\n",
              "      <td>4</td>\n",
              "      <td>6</td>\n",
              "      <td>20</td>\n",
              "    </tr>\n",
              "    <tr>\n",
              "      <th>total_intl_charge</th>\n",
              "      <td>4250</td>\n",
              "      <td>NaN</td>\n",
              "      <td>NaN</td>\n",
              "      <td>NaN</td>\n",
              "      <td>2.76965</td>\n",
              "      <td>0.745204</td>\n",
              "      <td>0</td>\n",
              "      <td>2.3</td>\n",
              "      <td>2.78</td>\n",
              "      <td>3.24</td>\n",
              "      <td>5.4</td>\n",
              "    </tr>\n",
              "    <tr>\n",
              "      <th>number_customer_service_calls</th>\n",
              "      <td>4250</td>\n",
              "      <td>NaN</td>\n",
              "      <td>NaN</td>\n",
              "      <td>NaN</td>\n",
              "      <td>1.55906</td>\n",
              "      <td>1.31143</td>\n",
              "      <td>0</td>\n",
              "      <td>1</td>\n",
              "      <td>1</td>\n",
              "      <td>2</td>\n",
              "      <td>9</td>\n",
              "    </tr>\n",
              "    <tr>\n",
              "      <th>churn</th>\n",
              "      <td>4250</td>\n",
              "      <td>2</td>\n",
              "      <td>no</td>\n",
              "      <td>3652</td>\n",
              "      <td>NaN</td>\n",
              "      <td>NaN</td>\n",
              "      <td>NaN</td>\n",
              "      <td>NaN</td>\n",
              "      <td>NaN</td>\n",
              "      <td>NaN</td>\n",
              "      <td>NaN</td>\n",
              "    </tr>\n",
              "  </tbody>\n",
              "</table>\n",
              "</div>"
            ],
            "text/plain": [
              "                              count unique  ...      75%    max\n",
              "state                          4250     51  ...      NaN    NaN\n",
              "account_length                 4250    NaN  ...      127    243\n",
              "area_code                      4250      3  ...      NaN    NaN\n",
              "international_plan             4250      2  ...      NaN    NaN\n",
              "voice_mail_plan                4250      2  ...      NaN    NaN\n",
              "number_vmail_messages          4250    NaN  ...       16     52\n",
              "total_day_minutes              4250    NaN  ...    216.2  351.5\n",
              "total_day_calls                4250    NaN  ...      113    165\n",
              "total_day_charge               4250    NaN  ...    36.75  59.76\n",
              "total_eve_minutes              4250    NaN  ...  233.775  359.3\n",
              "total_eve_calls                4250    NaN  ...      114    170\n",
              "total_eve_charge               4250    NaN  ...  19.8675  30.54\n",
              "total_night_minutes            4250    NaN  ...    234.7    395\n",
              "total_night_calls              4250    NaN  ...      113    175\n",
              "total_night_charge             4250    NaN  ...    10.56  17.77\n",
              "total_intl_minutes             4250    NaN  ...       12     20\n",
              "total_intl_calls               4250    NaN  ...        6     20\n",
              "total_intl_charge              4250    NaN  ...     3.24    5.4\n",
              "number_customer_service_calls  4250    NaN  ...        2      9\n",
              "churn                          4250      2  ...      NaN    NaN\n",
              "\n",
              "[20 rows x 11 columns]"
            ]
          },
          "metadata": {
            "tags": []
          },
          "execution_count": 4
        }
      ]
    },
    {
      "cell_type": "markdown",
      "metadata": {
        "id": "vwEvJLiPqQen"
      },
      "source": [
        "##Churn Proportion"
      ]
    },
    {
      "cell_type": "code",
      "metadata": {
        "colab": {
          "base_uri": "https://localhost:8080/"
        },
        "id": "R2KI4YL7u5Nr",
        "outputId": "2c89bf01-6ec0-4927-b966-020ac695c08e"
      },
      "source": [
        "df.churn.value_counts()"
      ],
      "execution_count": 5,
      "outputs": [
        {
          "output_type": "execute_result",
          "data": {
            "text/plain": [
              "no     3652\n",
              "yes     598\n",
              "Name: churn, dtype: int64"
            ]
          },
          "metadata": {
            "tags": []
          },
          "execution_count": 5
        }
      ]
    },
    {
      "cell_type": "code",
      "metadata": {
        "colab": {
          "base_uri": "https://localhost:8080/",
          "height": 320
        },
        "id": "umHTD9oPo_a9",
        "outputId": "05a36f70-ea70-4bab-a3f0-5109e020068c"
      },
      "source": [
        "labels = ['Not Churn','Churn']\r\n",
        "size = [3652,598]\r\n",
        "colors = ['darkslategrey','orangered']\r\n",
        "explode = [0.2,0]\r\n",
        "\r\n",
        "plt.rcParams['figure.figsize']=(5,5)\r\n",
        "plt.pie(size, colors=colors, explode=explode, labels=labels, shadow=True,autopct='%.2f%%')\r\n",
        "plt.title('Proporsi Churn',fontsize=14)\r\n",
        "plt.axis('off')\r\n",
        "plt.legend(labels, loc='best')\r\n",
        "plt.show()"
      ],
      "execution_count": 6,
      "outputs": [
        {
          "output_type": "display_data",
          "data": {
            "image/png": "[encoded data removed]",
            "text/plain": [
              "<Figure size 360x360 with 1 Axes>"
            ]
          },
          "metadata": {
            "tags": []
          }
        }
      ]
    },
    {
      "cell_type": "markdown",
      "metadata": {
        "id": "QxeLtsP6tdOX"
      },
      "source": [
        "##Churn Category per Area Code"
      ]
    },
    {
      "cell_type": "code",
      "metadata": {
        "colab": {
          "base_uri": "https://localhost:8080/",
          "height": 380
        },
        "id": "83_cEBp_rhd_",
        "outputId": "89f91ab9-ab0b-4026-9c43-85ece8c63547"
      },
      "source": [
        "import matplotlib.pyplot as plt\r\n",
        "df.groupby(['area_code','churn']).size().unstack().plot(kind='bar',color = ('darkslategrey','orangered'))\r\n",
        "plt.title('Kategori Churn per Kode Area', loc='center',pad=30,fontsize=15,color='blue')\r\n",
        "plt.xlabel('Kode Area',fontsize=12)\r\n",
        "plt.ylabel('Jumlah',fontsize=12)\r\n",
        "plt.legend(bbox_to_anchor=(1,1), shadow=True,title='Churn')\r\n",
        "plt.xticks(rotation=0)\r\n",
        "plt.show()"
      ],
      "execution_count": 7,
      "outputs": [
        {
          "output_type": "display_data",
          "data": {
            "image/png": "[encoded data removed]",
            "text/plain": [
              "<Figure size 360x360 with 1 Axes>"
            ]
          },
          "metadata": {
            "tags": [],
            "needs_background": "light"
          }
        }
      ]
    },
    {
      "cell_type": "code",
      "metadata": {
        "id": "bBFaoHzDxsET"
      },
      "source": [
        "CT = pd.crosstab(index=df[\"area_code\"], columns=df[\"churn\"])"
      ],
      "execution_count": 8,
      "outputs": []
    },
    {
      "cell_type": "code",
      "metadata": {
        "colab": {
          "base_uri": "https://localhost:8080/",
          "height": 168
        },
        "id": "MTm3HRdXjwXh",
        "outputId": "9f886157-82cf-4ce0-8e41-8804693fb8a4"
      },
      "source": [
        "CT"
      ],
      "execution_count": 9,
      "outputs": [
        {
          "output_type": "execute_result",
          "data": {
            "text/html": [
              "<div>\n",
              "<style scoped>\n",
              "    .dataframe tbody tr th:only-of-type {\n",
              "        vertical-align: middle;\n",
              "    }\n",
              "\n",
              "    .dataframe tbody tr th {\n",
              "        vertical-align: top;\n",
              "    }\n",
              "\n",
              "    .dataframe thead th {\n",
              "        text-align: right;\n",
              "    }\n",
              "</style>\n",
              "<table border=\"1\" class=\"dataframe\">\n",
              "  <thead>\n",
              "    <tr style=\"text-align: right;\">\n",
              "      <th>churn</th>\n",
              "      <th>no</th>\n",
              "      <th>yes</th>\n",
              "    </tr>\n",
              "    <tr>\n",
              "      <th>area_code</th>\n",
              "      <th></th>\n",
              "      <th></th>\n",
              "    </tr>\n",
              "  </thead>\n",
              "  <tbody>\n",
              "    <tr>\n",
              "      <th>area_code_408</th>\n",
              "      <td>934</td>\n",
              "      <td>152</td>\n",
              "    </tr>\n",
              "    <tr>\n",
              "      <th>area_code_415</th>\n",
              "      <td>1821</td>\n",
              "      <td>287</td>\n",
              "    </tr>\n",
              "    <tr>\n",
              "      <th>area_code_510</th>\n",
              "      <td>897</td>\n",
              "      <td>159</td>\n",
              "    </tr>\n",
              "  </tbody>\n",
              "</table>\n",
              "</div>"
            ],
            "text/plain": [
              "churn            no  yes\n",
              "area_code               \n",
              "area_code_408   934  152\n",
              "area_code_415  1821  287\n",
              "area_code_510   897  159"
            ]
          },
          "metadata": {
            "tags": []
          },
          "execution_count": 9
        }
      ]
    },
    {
      "cell_type": "code",
      "metadata": {
        "colab": {
          "base_uri": "https://localhost:8080/",
          "height": 320
        },
        "id": "Ihv4MCo5yLJ-",
        "outputId": "947bb258-7579-435c-b772-2f941ede4d64"
      },
      "source": [
        "labels = ['Not Churn','Churn']\r\n",
        "size = [934,152]\r\n",
        "colors = ['darkslategrey','orangered']\r\n",
        "explode = [0.2,0]\r\n",
        "\r\n",
        "plt.rcParams['figure.figsize']=(5,5)\r\n",
        "plt.pie(size, colors=colors, explode=explode, labels=labels, shadow=True,autopct='%.2f%%')\r\n",
        "plt.title('Proporsi Churn di area_code_408',fontsize=14)\r\n",
        "plt.axis('off')\r\n",
        "plt.legend(labels, loc='best')\r\n",
        "plt.show()"
      ],
      "execution_count": 10,
      "outputs": [
        {
          "output_type": "display_data",
          "data": {
            "image/png": "[encoded data removed]",
            "text/plain": [
              "<Figure size 360x360 with 1 Axes>"
            ]
          },
          "metadata": {
            "tags": []
          }
        }
      ]
    },
    {
      "cell_type": "code",
      "metadata": {
        "colab": {
          "base_uri": "https://localhost:8080/",
          "height": 320
        },
        "id": "O8LAvrEYyxJZ",
        "outputId": "6a18a9c8-f0ba-44ac-fc63-a597f5b21261"
      },
      "source": [
        "labels = ['Not Churn','Churn']\r\n",
        "size = [897,159]\r\n",
        "colors = ['darkslategrey','orangered']\r\n",
        "explode = [0.2,0]\r\n",
        "\r\n",
        "plt.rcParams['figure.figsize']=(5,5)\r\n",
        "plt.pie(size, colors=colors, explode=explode, labels=labels, shadow=True,autopct='%.2f%%')\r\n",
        "plt.title('Proporsi Churn di area_code_510',fontsize=14)\r\n",
        "plt.axis('off')\r\n",
        "plt.legend(labels, loc='best')\r\n",
        "plt.show()"
      ],
      "execution_count": 11,
      "outputs": [
        {
          "output_type": "display_data",
          "data": {
            "image/png": "[encoded data removed]",
            "text/plain": [
              "<Figure size 360x360 with 1 Axes>"
            ]
          },
          "metadata": {
            "tags": []
          }
        }
      ]
    },
    {
      "cell_type": "code",
      "metadata": {
        "colab": {
          "base_uri": "https://localhost:8080/",
          "height": 320
        },
        "id": "T-sJI4JYy5lv",
        "outputId": "a1f50e52-fe76-4b7a-928d-56abed559759"
      },
      "source": [
        "labels = ['Not Churn','Churn']\r\n",
        "size = [1821,287]\r\n",
        "colors = ['darkslategrey','orangered']\r\n",
        "explode = [0.2,0]\r\n",
        "\r\n",
        "plt.rcParams['figure.figsize']=(5,5)\r\n",
        "plt.pie(size, colors=colors, explode=explode, labels=labels, shadow=True,autopct='%.2f%%')\r\n",
        "plt.title('Proporsi Churn di area_code_415',fontsize=14)\r\n",
        "plt.axis('off')\r\n",
        "plt.legend(labels, loc='best')\r\n",
        "plt.show()"
      ],
      "execution_count": 12,
      "outputs": [
        {
          "output_type": "display_data",
          "data": {
            "image/png": "[encoded data removed]",
            "text/plain": [
              "<Figure size 360x360 with 1 Axes>"
            ]
          },
          "metadata": {
            "tags": []
          }
        }
      ]
    },
    {
      "cell_type": "markdown",
      "metadata": {
        "id": "8hR9VcX8voUV"
      },
      "source": [
        "##Churn Category per International Plan\r\n"
      ]
    },
    {
      "cell_type": "code",
      "metadata": {
        "colab": {
          "base_uri": "https://localhost:8080/",
          "height": 386
        },
        "id": "YJ-3SauJtj0W",
        "outputId": "1f9ab475-bf9c-4644-d056-9b79c5a62499"
      },
      "source": [
        "import matplotlib.pyplot as plt\r\n",
        "df.groupby(['international_plan','churn']).size().unstack().plot(kind='bar', color = ('darkslategrey','orangered'))\r\n",
        "plt.title('Kategori Churn per International Plan', loc='center',pad=30,fontsize=15,color='black')\r\n",
        "plt.xlabel('International Plan',fontsize=12)\r\n",
        "plt.ylabel('Jumlah',fontsize=12)\r\n",
        "plt.legend(bbox_to_anchor=(1,1), shadow=True,title='Churn')\r\n",
        "plt.show()"
      ],
      "execution_count": 13,
      "outputs": [
        {
          "output_type": "display_data",
          "data": {
            "image/png": "[encoded data removed]",
            "text/plain": [
              "<Figure size 360x360 with 1 Axes>"
            ]
          },
          "metadata": {
            "tags": [],
            "needs_background": "light"
          }
        }
      ]
    },
    {
      "cell_type": "markdown",
      "metadata": {
        "id": "igePL29Cza_Z"
      },
      "source": [
        "##Churn Category per Voice Mail Plan"
      ]
    },
    {
      "cell_type": "code",
      "metadata": {
        "colab": {
          "base_uri": "https://localhost:8080/",
          "height": 386
        },
        "id": "UPjjUbE8zhwf",
        "outputId": "f28bf3dc-d7f2-4544-ba3a-5be3470fd9c0"
      },
      "source": [
        "import matplotlib.pyplot as plt\r\n",
        "df.groupby(['voice_mail_plan','churn']).size().unstack().plot(kind='bar', color = ('darkslategrey','orangered'))\r\n",
        "plt.title('Kategori Churn per Voice Mail Plan', loc='center',pad=30,fontsize=15,color='black')\r\n",
        "plt.xlabel('Voice Mail Plan',fontsize=12)\r\n",
        "plt.ylabel('Jumlah',fontsize=12)\r\n",
        "plt.legend(bbox_to_anchor=(1,1), shadow=True,title='Churn')\r\n",
        "plt.show()"
      ],
      "execution_count": 14,
      "outputs": [
        {
          "output_type": "display_data",
          "data": {
            "image/png": "[encoded data removed]",
            "text/plain": [
              "<Figure size 360x360 with 1 Axes>"
            ]
          },
          "metadata": {
            "tags": [],
            "needs_background": "light"
          }
        }
      ]
    },
    {
      "cell_type": "markdown",
      "metadata": {
        "id": "iR-cPa-F8W_Z"
      },
      "source": [
        "##Distribution of numerical_features"
      ]
    },
    {
      "cell_type": "code",
      "metadata": {
        "colab": {
          "base_uri": "https://localhost:8080/",
          "height": 1000
        },
        "id": "vzpGYvm8l4AH",
        "outputId": "18a3f49e-cb2f-44ab-899c-3d8479de7bb3"
      },
      "source": [
        "numerical_features = ['account_length',\t'number_vmail_messages',\t'total_day_minutes',\t'total_day_calls',\t'total_day_charge',\t'total_eve_minutes',\t'total_eve_calls',\t'total_eve_charge',\t'total_night_minutes', 'total_night_calls',\t'total_night_charge',\t'total_intl_minutes',\t'total_intl_calls',\t'total_intl_charge',\t'number_customer_service_calls']\r\n",
        "fig, ax = plt.subplots(5,3,figsize=(15,20))\r\n",
        "\r\n",
        "df[df.churn == 'no'][numerical_features].hist(bins=20,color='darkslategrey',alpha=0.5,ax=ax)\r\n",
        "df[df.churn == 'yes'][numerical_features].hist(bins=20,color='orangered',alpha=0.5,ax=ax)\r\n",
        "plt.show()"
      ],
      "execution_count": 15,
      "outputs": [
        {
          "output_type": "display_data",
          "data": {
            "image/png": "[encoded data removed]",
            "text/plain": [
              "<Figure size 1080x1440 with 15 Axes>"
            ]
          },
          "metadata": {
            "tags": [],
            "needs_background": "light"
          }
        }
      ]
    },
    {
      "cell_type": "markdown",
      "metadata": {
        "id": "7DZNGM6QB13Q"
      },
      "source": [
        "##Churn Customer"
      ]
    },
    {
      "cell_type": "code",
      "metadata": {
        "id": "v2GHc_NZBRtU"
      },
      "source": [
        "churn = df[df['churn']=='yes']"
      ],
      "execution_count": 16,
      "outputs": []
    },
    {
      "cell_type": "code",
      "metadata": {
        "colab": {
          "base_uri": "https://localhost:8080/",
          "height": 218
        },
        "id": "4aQ8jqQsBw2U",
        "outputId": "7d57a10e-5ad8-473c-9eb1-bce8bbb08080"
      },
      "source": [
        "churn.head()"
      ],
      "execution_count": 17,
      "outputs": [
        {
          "output_type": "execute_result",
          "data": {
            "text/html": [
              "<div>\n",
              "<style scoped>\n",
              "    .dataframe tbody tr th:only-of-type {\n",
              "        vertical-align: middle;\n",
              "    }\n",
              "\n",
              "    .dataframe tbody tr th {\n",
              "        vertical-align: top;\n",
              "    }\n",
              "\n",
              "    .dataframe thead th {\n",
              "        text-align: right;\n",
              "    }\n",
              "</style>\n",
              "<table border=\"1\" class=\"dataframe\">\n",
              "  <thead>\n",
              "    <tr style=\"text-align: right;\">\n",
              "      <th></th>\n",
              "      <th>state</th>\n",
              "      <th>account_length</th>\n",
              "      <th>area_code</th>\n",
              "      <th>international_plan</th>\n",
              "      <th>voice_mail_plan</th>\n",
              "      <th>number_vmail_messages</th>\n",
              "      <th>total_day_minutes</th>\n",
              "      <th>total_day_calls</th>\n",
              "      <th>total_day_charge</th>\n",
              "      <th>total_eve_minutes</th>\n",
              "      <th>total_eve_calls</th>\n",
              "      <th>total_eve_charge</th>\n",
              "      <th>total_night_minutes</th>\n",
              "      <th>total_night_calls</th>\n",
              "      <th>total_night_charge</th>\n",
              "      <th>total_intl_minutes</th>\n",
              "      <th>total_intl_calls</th>\n",
              "      <th>total_intl_charge</th>\n",
              "      <th>number_customer_service_calls</th>\n",
              "      <th>churn</th>\n",
              "    </tr>\n",
              "  </thead>\n",
              "  <tbody>\n",
              "    <tr>\n",
              "      <th>8</th>\n",
              "      <td>IN</td>\n",
              "      <td>65</td>\n",
              "      <td>area_code_415</td>\n",
              "      <td>no</td>\n",
              "      <td>no</td>\n",
              "      <td>0</td>\n",
              "      <td>129.1</td>\n",
              "      <td>137</td>\n",
              "      <td>21.95</td>\n",
              "      <td>228.5</td>\n",
              "      <td>83</td>\n",
              "      <td>19.42</td>\n",
              "      <td>208.8</td>\n",
              "      <td>111</td>\n",
              "      <td>9.40</td>\n",
              "      <td>12.7</td>\n",
              "      <td>6</td>\n",
              "      <td>3.43</td>\n",
              "      <td>4</td>\n",
              "      <td>yes</td>\n",
              "    </tr>\n",
              "    <tr>\n",
              "      <th>12</th>\n",
              "      <td>NY</td>\n",
              "      <td>161</td>\n",
              "      <td>area_code_415</td>\n",
              "      <td>no</td>\n",
              "      <td>no</td>\n",
              "      <td>0</td>\n",
              "      <td>332.9</td>\n",
              "      <td>67</td>\n",
              "      <td>56.59</td>\n",
              "      <td>317.8</td>\n",
              "      <td>97</td>\n",
              "      <td>27.01</td>\n",
              "      <td>160.6</td>\n",
              "      <td>128</td>\n",
              "      <td>7.23</td>\n",
              "      <td>5.4</td>\n",
              "      <td>9</td>\n",
              "      <td>1.46</td>\n",
              "      <td>4</td>\n",
              "      <td>yes</td>\n",
              "    </tr>\n",
              "    <tr>\n",
              "      <th>17</th>\n",
              "      <td>CO</td>\n",
              "      <td>77</td>\n",
              "      <td>area_code_408</td>\n",
              "      <td>no</td>\n",
              "      <td>no</td>\n",
              "      <td>0</td>\n",
              "      <td>62.4</td>\n",
              "      <td>89</td>\n",
              "      <td>10.61</td>\n",
              "      <td>169.9</td>\n",
              "      <td>121</td>\n",
              "      <td>14.44</td>\n",
              "      <td>209.6</td>\n",
              "      <td>64</td>\n",
              "      <td>9.43</td>\n",
              "      <td>5.7</td>\n",
              "      <td>6</td>\n",
              "      <td>1.54</td>\n",
              "      <td>5</td>\n",
              "      <td>yes</td>\n",
              "    </tr>\n",
              "    <tr>\n",
              "      <th>26</th>\n",
              "      <td>AZ</td>\n",
              "      <td>12</td>\n",
              "      <td>area_code_408</td>\n",
              "      <td>no</td>\n",
              "      <td>no</td>\n",
              "      <td>0</td>\n",
              "      <td>249.6</td>\n",
              "      <td>118</td>\n",
              "      <td>42.43</td>\n",
              "      <td>252.4</td>\n",
              "      <td>119</td>\n",
              "      <td>21.45</td>\n",
              "      <td>280.2</td>\n",
              "      <td>90</td>\n",
              "      <td>12.61</td>\n",
              "      <td>11.8</td>\n",
              "      <td>3</td>\n",
              "      <td>3.19</td>\n",
              "      <td>1</td>\n",
              "      <td>yes</td>\n",
              "    </tr>\n",
              "    <tr>\n",
              "      <th>32</th>\n",
              "      <td>MD</td>\n",
              "      <td>135</td>\n",
              "      <td>area_code_408</td>\n",
              "      <td>yes</td>\n",
              "      <td>yes</td>\n",
              "      <td>41</td>\n",
              "      <td>173.1</td>\n",
              "      <td>85</td>\n",
              "      <td>29.43</td>\n",
              "      <td>203.9</td>\n",
              "      <td>107</td>\n",
              "      <td>17.33</td>\n",
              "      <td>122.2</td>\n",
              "      <td>78</td>\n",
              "      <td>5.50</td>\n",
              "      <td>14.6</td>\n",
              "      <td>15</td>\n",
              "      <td>3.94</td>\n",
              "      <td>0</td>\n",
              "      <td>yes</td>\n",
              "    </tr>\n",
              "  </tbody>\n",
              "</table>\n",
              "</div>"
            ],
            "text/plain": [
              "   state  account_length  ... number_customer_service_calls churn\n",
              "8     IN              65  ...                             4   yes\n",
              "12    NY             161  ...                             4   yes\n",
              "17    CO              77  ...                             5   yes\n",
              "26    AZ              12  ...                             1   yes\n",
              "32    MD             135  ...                             0   yes\n",
              "\n",
              "[5 rows x 20 columns]"
            ]
          },
          "metadata": {
            "tags": []
          },
          "execution_count": 17
        }
      ]
    },
    {
      "cell_type": "code",
      "metadata": {
        "colab": {
          "base_uri": "https://localhost:8080/",
          "height": 648
        },
        "id": "Yh-fzzl1CBQX",
        "outputId": "733e4993-4b54-41ab-9db8-c8ecd97c97ff"
      },
      "source": [
        "churn.describe(include='all').transpose()"
      ],
      "execution_count": 18,
      "outputs": [
        {
          "output_type": "execute_result",
          "data": {
            "text/html": [
              "<div>\n",
              "<style scoped>\n",
              "    .dataframe tbody tr th:only-of-type {\n",
              "        vertical-align: middle;\n",
              "    }\n",
              "\n",
              "    .dataframe tbody tr th {\n",
              "        vertical-align: top;\n",
              "    }\n",
              "\n",
              "    .dataframe thead th {\n",
              "        text-align: right;\n",
              "    }\n",
              "</style>\n",
              "<table border=\"1\" class=\"dataframe\">\n",
              "  <thead>\n",
              "    <tr style=\"text-align: right;\">\n",
              "      <th></th>\n",
              "      <th>count</th>\n",
              "      <th>unique</th>\n",
              "      <th>top</th>\n",
              "      <th>freq</th>\n",
              "      <th>mean</th>\n",
              "      <th>std</th>\n",
              "      <th>min</th>\n",
              "      <th>25%</th>\n",
              "      <th>50%</th>\n",
              "      <th>75%</th>\n",
              "      <th>max</th>\n",
              "    </tr>\n",
              "  </thead>\n",
              "  <tbody>\n",
              "    <tr>\n",
              "      <th>state</th>\n",
              "      <td>598</td>\n",
              "      <td>51</td>\n",
              "      <td>NJ</td>\n",
              "      <td>26</td>\n",
              "      <td>NaN</td>\n",
              "      <td>NaN</td>\n",
              "      <td>NaN</td>\n",
              "      <td>NaN</td>\n",
              "      <td>NaN</td>\n",
              "      <td>NaN</td>\n",
              "      <td>NaN</td>\n",
              "    </tr>\n",
              "    <tr>\n",
              "      <th>account_length</th>\n",
              "      <td>598</td>\n",
              "      <td>NaN</td>\n",
              "      <td>NaN</td>\n",
              "      <td>NaN</td>\n",
              "      <td>102.137</td>\n",
              "      <td>39.3692</td>\n",
              "      <td>2</td>\n",
              "      <td>76</td>\n",
              "      <td>101</td>\n",
              "      <td>125</td>\n",
              "      <td>225</td>\n",
              "    </tr>\n",
              "    <tr>\n",
              "      <th>area_code</th>\n",
              "      <td>598</td>\n",
              "      <td>3</td>\n",
              "      <td>area_code_415</td>\n",
              "      <td>287</td>\n",
              "      <td>NaN</td>\n",
              "      <td>NaN</td>\n",
              "      <td>NaN</td>\n",
              "      <td>NaN</td>\n",
              "      <td>NaN</td>\n",
              "      <td>NaN</td>\n",
              "      <td>NaN</td>\n",
              "    </tr>\n",
              "    <tr>\n",
              "      <th>international_plan</th>\n",
              "      <td>598</td>\n",
              "      <td>2</td>\n",
              "      <td>no</td>\n",
              "      <td>431</td>\n",
              "      <td>NaN</td>\n",
              "      <td>NaN</td>\n",
              "      <td>NaN</td>\n",
              "      <td>NaN</td>\n",
              "      <td>NaN</td>\n",
              "      <td>NaN</td>\n",
              "      <td>NaN</td>\n",
              "    </tr>\n",
              "    <tr>\n",
              "      <th>voice_mail_plan</th>\n",
              "      <td>598</td>\n",
              "      <td>2</td>\n",
              "      <td>no</td>\n",
              "      <td>516</td>\n",
              "      <td>NaN</td>\n",
              "      <td>NaN</td>\n",
              "      <td>NaN</td>\n",
              "      <td>NaN</td>\n",
              "      <td>NaN</td>\n",
              "      <td>NaN</td>\n",
              "      <td>NaN</td>\n",
              "    </tr>\n",
              "    <tr>\n",
              "      <th>number_vmail_messages</th>\n",
              "      <td>598</td>\n",
              "      <td>NaN</td>\n",
              "      <td>NaN</td>\n",
              "      <td>NaN</td>\n",
              "      <td>4.29933</td>\n",
              "      <td>11.1246</td>\n",
              "      <td>0</td>\n",
              "      <td>0</td>\n",
              "      <td>0</td>\n",
              "      <td>0</td>\n",
              "      <td>48</td>\n",
              "    </tr>\n",
              "    <tr>\n",
              "      <th>total_day_minutes</th>\n",
              "      <td>598</td>\n",
              "      <td>NaN</td>\n",
              "      <td>NaN</td>\n",
              "      <td>NaN</td>\n",
              "      <td>208.99</td>\n",
              "      <td>69.1835</td>\n",
              "      <td>0</td>\n",
              "      <td>151.175</td>\n",
              "      <td>220.55</td>\n",
              "      <td>266.975</td>\n",
              "      <td>351.5</td>\n",
              "    </tr>\n",
              "    <tr>\n",
              "      <th>total_day_calls</th>\n",
              "      <td>598</td>\n",
              "      <td>NaN</td>\n",
              "      <td>NaN</td>\n",
              "      <td>NaN</td>\n",
              "      <td>100.478</td>\n",
              "      <td>20.9889</td>\n",
              "      <td>0</td>\n",
              "      <td>87</td>\n",
              "      <td>101</td>\n",
              "      <td>114</td>\n",
              "      <td>165</td>\n",
              "    </tr>\n",
              "    <tr>\n",
              "      <th>total_day_charge</th>\n",
              "      <td>598</td>\n",
              "      <td>NaN</td>\n",
              "      <td>NaN</td>\n",
              "      <td>NaN</td>\n",
              "      <td>35.5287</td>\n",
              "      <td>11.7614</td>\n",
              "      <td>0</td>\n",
              "      <td>25.6975</td>\n",
              "      <td>37.495</td>\n",
              "      <td>45.385</td>\n",
              "      <td>59.76</td>\n",
              "    </tr>\n",
              "    <tr>\n",
              "      <th>total_eve_minutes</th>\n",
              "      <td>598</td>\n",
              "      <td>NaN</td>\n",
              "      <td>NaN</td>\n",
              "      <td>NaN</td>\n",
              "      <td>209.965</td>\n",
              "      <td>51.3123</td>\n",
              "      <td>70.9</td>\n",
              "      <td>172.15</td>\n",
              "      <td>210.2</td>\n",
              "      <td>248.1</td>\n",
              "      <td>349.4</td>\n",
              "    </tr>\n",
              "    <tr>\n",
              "      <th>total_eve_calls</th>\n",
              "      <td>598</td>\n",
              "      <td>NaN</td>\n",
              "      <td>NaN</td>\n",
              "      <td>NaN</td>\n",
              "      <td>99.8411</td>\n",
              "      <td>19.7529</td>\n",
              "      <td>48</td>\n",
              "      <td>87</td>\n",
              "      <td>99.5</td>\n",
              "      <td>113</td>\n",
              "      <td>168</td>\n",
              "    </tr>\n",
              "    <tr>\n",
              "      <th>total_eve_charge</th>\n",
              "      <td>598</td>\n",
              "      <td>NaN</td>\n",
              "      <td>NaN</td>\n",
              "      <td>NaN</td>\n",
              "      <td>17.8472</td>\n",
              "      <td>4.36154</td>\n",
              "      <td>6.03</td>\n",
              "      <td>14.635</td>\n",
              "      <td>17.87</td>\n",
              "      <td>21.09</td>\n",
              "      <td>29.7</td>\n",
              "    </tr>\n",
              "    <tr>\n",
              "      <th>total_night_minutes</th>\n",
              "      <td>598</td>\n",
              "      <td>NaN</td>\n",
              "      <td>NaN</td>\n",
              "      <td>NaN</td>\n",
              "      <td>206.332</td>\n",
              "      <td>48.9598</td>\n",
              "      <td>47.4</td>\n",
              "      <td>172.825</td>\n",
              "      <td>206.1</td>\n",
              "      <td>241.25</td>\n",
              "      <td>381.6</td>\n",
              "    </tr>\n",
              "    <tr>\n",
              "      <th>total_night_calls</th>\n",
              "      <td>598</td>\n",
              "      <td>NaN</td>\n",
              "      <td>NaN</td>\n",
              "      <td>NaN</td>\n",
              "      <td>99.209</td>\n",
              "      <td>20.2634</td>\n",
              "      <td>42</td>\n",
              "      <td>84</td>\n",
              "      <td>99</td>\n",
              "      <td>114</td>\n",
              "      <td>158</td>\n",
              "    </tr>\n",
              "    <tr>\n",
              "      <th>total_night_charge</th>\n",
              "      <td>598</td>\n",
              "      <td>NaN</td>\n",
              "      <td>NaN</td>\n",
              "      <td>NaN</td>\n",
              "      <td>9.28503</td>\n",
              "      <td>2.20322</td>\n",
              "      <td>2.13</td>\n",
              "      <td>7.78</td>\n",
              "      <td>9.275</td>\n",
              "      <td>10.8575</td>\n",
              "      <td>17.17</td>\n",
              "    </tr>\n",
              "    <tr>\n",
              "      <th>total_intl_minutes</th>\n",
              "      <td>598</td>\n",
              "      <td>NaN</td>\n",
              "      <td>NaN</td>\n",
              "      <td>NaN</td>\n",
              "      <td>10.6324</td>\n",
              "      <td>2.79449</td>\n",
              "      <td>0</td>\n",
              "      <td>8.8</td>\n",
              "      <td>10.6</td>\n",
              "      <td>12.7</td>\n",
              "      <td>20</td>\n",
              "    </tr>\n",
              "    <tr>\n",
              "      <th>total_intl_calls</th>\n",
              "      <td>598</td>\n",
              "      <td>NaN</td>\n",
              "      <td>NaN</td>\n",
              "      <td>NaN</td>\n",
              "      <td>4.21739</td>\n",
              "      <td>2.62693</td>\n",
              "      <td>0</td>\n",
              "      <td>2</td>\n",
              "      <td>4</td>\n",
              "      <td>5</td>\n",
              "      <td>20</td>\n",
              "    </tr>\n",
              "    <tr>\n",
              "      <th>total_intl_charge</th>\n",
              "      <td>598</td>\n",
              "      <td>NaN</td>\n",
              "      <td>NaN</td>\n",
              "      <td>NaN</td>\n",
              "      <td>2.87125</td>\n",
              "      <td>0.754413</td>\n",
              "      <td>0</td>\n",
              "      <td>2.38</td>\n",
              "      <td>2.86</td>\n",
              "      <td>3.43</td>\n",
              "      <td>5.4</td>\n",
              "    </tr>\n",
              "    <tr>\n",
              "      <th>number_customer_service_calls</th>\n",
              "      <td>598</td>\n",
              "      <td>NaN</td>\n",
              "      <td>NaN</td>\n",
              "      <td>NaN</td>\n",
              "      <td>2.27592</td>\n",
              "      <td>1.82733</td>\n",
              "      <td>0</td>\n",
              "      <td>1</td>\n",
              "      <td>2</td>\n",
              "      <td>4</td>\n",
              "      <td>9</td>\n",
              "    </tr>\n",
              "    <tr>\n",
              "      <th>churn</th>\n",
              "      <td>598</td>\n",
              "      <td>1</td>\n",
              "      <td>yes</td>\n",
              "      <td>598</td>\n",
              "      <td>NaN</td>\n",
              "      <td>NaN</td>\n",
              "      <td>NaN</td>\n",
              "      <td>NaN</td>\n",
              "      <td>NaN</td>\n",
              "      <td>NaN</td>\n",
              "      <td>NaN</td>\n",
              "    </tr>\n",
              "  </tbody>\n",
              "</table>\n",
              "</div>"
            ],
            "text/plain": [
              "                              count unique  ...      75%    max\n",
              "state                           598     51  ...      NaN    NaN\n",
              "account_length                  598    NaN  ...      125    225\n",
              "area_code                       598      3  ...      NaN    NaN\n",
              "international_plan              598      2  ...      NaN    NaN\n",
              "voice_mail_plan                 598      2  ...      NaN    NaN\n",
              "number_vmail_messages           598    NaN  ...        0     48\n",
              "total_day_minutes               598    NaN  ...  266.975  351.5\n",
              "total_day_calls                 598    NaN  ...      114    165\n",
              "total_day_charge                598    NaN  ...   45.385  59.76\n",
              "total_eve_minutes               598    NaN  ...    248.1  349.4\n",
              "total_eve_calls                 598    NaN  ...      113    168\n",
              "total_eve_charge                598    NaN  ...    21.09   29.7\n",
              "total_night_minutes             598    NaN  ...   241.25  381.6\n",
              "total_night_calls               598    NaN  ...      114    158\n",
              "total_night_charge              598    NaN  ...  10.8575  17.17\n",
              "total_intl_minutes              598    NaN  ...     12.7     20\n",
              "total_intl_calls                598    NaN  ...        5     20\n",
              "total_intl_charge               598    NaN  ...     3.43    5.4\n",
              "number_customer_service_calls   598    NaN  ...        4      9\n",
              "churn                           598      1  ...      NaN    NaN\n",
              "\n",
              "[20 rows x 11 columns]"
            ]
          },
          "metadata": {
            "tags": []
          },
          "execution_count": 18
        }
      ]
    },
    {
      "cell_type": "markdown",
      "metadata": {
        "id": "zXxbmgahDfww"
      },
      "source": [
        "## No Churn Customer"
      ]
    },
    {
      "cell_type": "code",
      "metadata": {
        "id": "qKJ4rTIvCIaY"
      },
      "source": [
        "no_churn = df[df['churn']=='no']"
      ],
      "execution_count": 19,
      "outputs": []
    },
    {
      "cell_type": "code",
      "metadata": {
        "colab": {
          "base_uri": "https://localhost:8080/",
          "height": 498
        },
        "id": "YCMG_ruGCOGa",
        "outputId": "878e2c74-16fb-4646-f37a-46100186b239"
      },
      "source": [
        "no_churn.describe().transpose()"
      ],
      "execution_count": 20,
      "outputs": [
        {
          "output_type": "execute_result",
          "data": {
            "text/html": [
              "<div>\n",
              "<style scoped>\n",
              "    .dataframe tbody tr th:only-of-type {\n",
              "        vertical-align: middle;\n",
              "    }\n",
              "\n",
              "    .dataframe tbody tr th {\n",
              "        vertical-align: top;\n",
              "    }\n",
              "\n",
              "    .dataframe thead th {\n",
              "        text-align: right;\n",
              "    }\n",
              "</style>\n",
              "<table border=\"1\" class=\"dataframe\">\n",
              "  <thead>\n",
              "    <tr style=\"text-align: right;\">\n",
              "      <th></th>\n",
              "      <th>count</th>\n",
              "      <th>mean</th>\n",
              "      <th>std</th>\n",
              "      <th>min</th>\n",
              "      <th>25%</th>\n",
              "      <th>50%</th>\n",
              "      <th>75%</th>\n",
              "      <th>max</th>\n",
              "    </tr>\n",
              "  </thead>\n",
              "  <tbody>\n",
              "    <tr>\n",
              "      <th>account_length</th>\n",
              "      <td>3652.0</td>\n",
              "      <td>99.924973</td>\n",
              "      <td>39.748743</td>\n",
              "      <td>1.0</td>\n",
              "      <td>73.0000</td>\n",
              "      <td>99.00</td>\n",
              "      <td>127.0000</td>\n",
              "      <td>243.00</td>\n",
              "    </tr>\n",
              "    <tr>\n",
              "      <th>number_vmail_messages</th>\n",
              "      <td>3652.0</td>\n",
              "      <td>8.177437</td>\n",
              "      <td>13.706304</td>\n",
              "      <td>0.0</td>\n",
              "      <td>0.0000</td>\n",
              "      <td>0.00</td>\n",
              "      <td>20.0000</td>\n",
              "      <td>52.00</td>\n",
              "    </tr>\n",
              "    <tr>\n",
              "      <th>total_day_minutes</th>\n",
              "      <td>3652.0</td>\n",
              "      <td>175.555093</td>\n",
              "      <td>49.549782</td>\n",
              "      <td>0.0</td>\n",
              "      <td>142.5000</td>\n",
              "      <td>178.25</td>\n",
              "      <td>210.7000</td>\n",
              "      <td>313.80</td>\n",
              "    </tr>\n",
              "    <tr>\n",
              "      <th>total_day_calls</th>\n",
              "      <td>3652.0</td>\n",
              "      <td>99.813801</td>\n",
              "      <td>19.659616</td>\n",
              "      <td>0.0</td>\n",
              "      <td>87.0000</td>\n",
              "      <td>100.00</td>\n",
              "      <td>113.0000</td>\n",
              "      <td>160.00</td>\n",
              "    </tr>\n",
              "    <tr>\n",
              "      <th>total_day_charge</th>\n",
              "      <td>3652.0</td>\n",
              "      <td>29.844948</td>\n",
              "      <td>8.423424</td>\n",
              "      <td>0.0</td>\n",
              "      <td>24.2300</td>\n",
              "      <td>30.30</td>\n",
              "      <td>35.8200</td>\n",
              "      <td>53.35</td>\n",
              "    </tr>\n",
              "    <tr>\n",
              "      <th>total_eve_minutes</th>\n",
              "      <td>3652.0</td>\n",
              "      <td>198.570674</td>\n",
              "      <td>49.897726</td>\n",
              "      <td>0.0</td>\n",
              "      <td>164.5750</td>\n",
              "      <td>199.20</td>\n",
              "      <td>231.7250</td>\n",
              "      <td>359.30</td>\n",
              "    </tr>\n",
              "    <tr>\n",
              "      <th>total_eve_calls</th>\n",
              "      <td>3652.0</td>\n",
              "      <td>100.231380</td>\n",
              "      <td>19.936117</td>\n",
              "      <td>0.0</td>\n",
              "      <td>87.0000</td>\n",
              "      <td>100.00</td>\n",
              "      <td>114.0000</td>\n",
              "      <td>170.00</td>\n",
              "    </tr>\n",
              "    <tr>\n",
              "      <th>total_eve_charge</th>\n",
              "      <td>3652.0</td>\n",
              "      <td>16.878743</td>\n",
              "      <td>4.241312</td>\n",
              "      <td>0.0</td>\n",
              "      <td>13.9875</td>\n",
              "      <td>16.93</td>\n",
              "      <td>19.6925</td>\n",
              "      <td>30.54</td>\n",
              "    </tr>\n",
              "    <tr>\n",
              "      <th>total_night_minutes</th>\n",
              "      <td>3652.0</td>\n",
              "      <td>199.577519</td>\n",
              "      <td>50.521152</td>\n",
              "      <td>0.0</td>\n",
              "      <td>165.9750</td>\n",
              "      <td>199.30</td>\n",
              "      <td>233.1250</td>\n",
              "      <td>395.00</td>\n",
              "    </tr>\n",
              "    <tr>\n",
              "      <th>total_night_calls</th>\n",
              "      <td>3652.0</td>\n",
              "      <td>99.942771</td>\n",
              "      <td>20.066126</td>\n",
              "      <td>0.0</td>\n",
              "      <td>87.0000</td>\n",
              "      <td>100.00</td>\n",
              "      <td>113.0000</td>\n",
              "      <td>175.00</td>\n",
              "    </tr>\n",
              "    <tr>\n",
              "      <th>total_night_charge</th>\n",
              "      <td>3652.0</td>\n",
              "      <td>8.981131</td>\n",
              "      <td>2.273463</td>\n",
              "      <td>0.0</td>\n",
              "      <td>7.4700</td>\n",
              "      <td>8.97</td>\n",
              "      <td>10.4900</td>\n",
              "      <td>17.77</td>\n",
              "    </tr>\n",
              "    <tr>\n",
              "      <th>total_intl_minutes</th>\n",
              "      <td>3652.0</td>\n",
              "      <td>10.194441</td>\n",
              "      <td>2.749911</td>\n",
              "      <td>0.0</td>\n",
              "      <td>8.5000</td>\n",
              "      <td>10.30</td>\n",
              "      <td>12.0000</td>\n",
              "      <td>19.70</td>\n",
              "    </tr>\n",
              "    <tr>\n",
              "      <th>total_intl_calls</th>\n",
              "      <td>3652.0</td>\n",
              "      <td>4.460570</td>\n",
              "      <td>2.433859</td>\n",
              "      <td>0.0</td>\n",
              "      <td>3.0000</td>\n",
              "      <td>4.00</td>\n",
              "      <td>6.0000</td>\n",
              "      <td>19.00</td>\n",
              "    </tr>\n",
              "    <tr>\n",
              "      <th>total_intl_charge</th>\n",
              "      <td>3652.0</td>\n",
              "      <td>2.753018</td>\n",
              "      <td>0.742466</td>\n",
              "      <td>0.0</td>\n",
              "      <td>2.3000</td>\n",
              "      <td>2.78</td>\n",
              "      <td>3.2400</td>\n",
              "      <td>5.32</td>\n",
              "    </tr>\n",
              "    <tr>\n",
              "      <th>number_customer_service_calls</th>\n",
              "      <td>3652.0</td>\n",
              "      <td>1.441676</td>\n",
              "      <td>1.165159</td>\n",
              "      <td>0.0</td>\n",
              "      <td>1.0000</td>\n",
              "      <td>1.00</td>\n",
              "      <td>2.0000</td>\n",
              "      <td>8.00</td>\n",
              "    </tr>\n",
              "  </tbody>\n",
              "</table>\n",
              "</div>"
            ],
            "text/plain": [
              "                                count        mean  ...       75%     max\n",
              "account_length                 3652.0   99.924973  ...  127.0000  243.00\n",
              "number_vmail_messages          3652.0    8.177437  ...   20.0000   52.00\n",
              "total_day_minutes              3652.0  175.555093  ...  210.7000  313.80\n",
              "total_day_calls                3652.0   99.813801  ...  113.0000  160.00\n",
              "total_day_charge               3652.0   29.844948  ...   35.8200   53.35\n",
              "total_eve_minutes              3652.0  198.570674  ...  231.7250  359.30\n",
              "total_eve_calls                3652.0  100.231380  ...  114.0000  170.00\n",
              "total_eve_charge               3652.0   16.878743  ...   19.6925   30.54\n",
              "total_night_minutes            3652.0  199.577519  ...  233.1250  395.00\n",
              "total_night_calls              3652.0   99.942771  ...  113.0000  175.00\n",
              "total_night_charge             3652.0    8.981131  ...   10.4900   17.77\n",
              "total_intl_minutes             3652.0   10.194441  ...   12.0000   19.70\n",
              "total_intl_calls               3652.0    4.460570  ...    6.0000   19.00\n",
              "total_intl_charge              3652.0    2.753018  ...    3.2400    5.32\n",
              "number_customer_service_calls  3652.0    1.441676  ...    2.0000    8.00\n",
              "\n",
              "[15 rows x 8 columns]"
            ]
          },
          "metadata": {
            "tags": []
          },
          "execution_count": 20
        }
      ]
    },
    {
      "cell_type": "markdown",
      "metadata": {
        "id": "asPK1vtJDmHu"
      },
      "source": [
        "##Correlation between numerical variable"
      ]
    },
    {
      "cell_type": "code",
      "metadata": {
        "colab": {
          "base_uri": "https://localhost:8080/",
          "height": 729
        },
        "id": "T7QPQgN50aGd",
        "outputId": "39dfed37-22f7-442d-8655-801cb4859b79"
      },
      "source": [
        "plt.figure(figsize=(12, 10))\r\n",
        "plt.title('Heatmap Correlation', size=17)\r\n",
        "sns.heatmap(df.corr(),annot=True)\r\n",
        "plt.tight_layout()"
      ],
      "execution_count": 21,
      "outputs": [
        {
          "output_type": "display_data",
          "data": {
            "image/png": "[encoded data removed]",
            "text/plain": [
              "<Figure size 864x720 with 2 Axes>"
            ]
          },
          "metadata": {
            "tags": [],
            "needs_background": "light"
          }
        }
      ]
    },
    {
      "cell_type": "markdown",
      "metadata": {
        "id": "8z_62A94wfX8"
      },
      "source": [
        "##Detecting Outlier"
      ]
    },
    {
      "cell_type": "code",
      "metadata": {
        "colab": {
          "base_uri": "https://localhost:8080/",
          "height": 1000
        },
        "id": "BIG92bbkviDX",
        "outputId": "c455680a-7da5-43ad-e54e-9c4895715dec"
      },
      "source": [
        "for column in df.columns : \r\n",
        "  if df [column].dtype == np.number:\r\n",
        "    plt.figure()\r\n",
        "    sns.boxplot(x=df[column])\r\n",
        "    plt.show\r\n",
        "    \r\n",
        "  else: continue"
      ],
      "execution_count": 22,
      "outputs": [
        {
          "output_type": "display_data",
          "data": {
            "image/png": "[encoded data removed]",
            "text/plain": [
              "<Figure size 360x360 with 1 Axes>"
            ]
          },
          "metadata": {
            "tags": [],
            "needs_background": "light"
          }
        },
        {
          "output_type": "display_data",
          "data": {
            "image/png": "[encoded data removed]",
            "text/plain": [
              "<Figure size 360x360 with 1 Axes>"
            ]
          },
          "metadata": {
            "tags": [],
            "needs_background": "light"
          }
        },
        {
          "output_type": "display_data",
          "data": {
            "image/png": "[encoded data removed]",
            "text/plain": [
              "<Figure size 360x360 with 1 Axes>"
            ]
          },
          "metadata": {
            "tags": [],
            "needs_background": "light"
          }
        },
        {
          "output_type": "display_data",
          "data": {
            "image/png": "[encoded data removed]",
            "text/plain": [
              "<Figure size 360x360 with 1 Axes>"
            ]
          },
          "metadata": {
            "tags": [],
            "needs_background": "light"
          }
        },
        {
          "output_type": "display_data",
          "data": {
            "image/png": "[encoded data removed]",
            "text/plain": [
              "<Figure size 360x360 with 1 Axes>"
            ]
          },
          "metadata": {
            "tags": [],
            "needs_background": "light"
          }
        },
        {
          "output_type": "display_data",
          "data": {
            "image/png": "[encoded data removed]",
            "text/plain": [
              "<Figure size 360x360 with 1 Axes>"
            ]
          },
          "metadata": {
            "tags": [],
            "needs_background": "light"
          }
        },
        {
          "output_type": "display_data",
          "data": {
            "image/png": "[encoded data removed]",
            "text/plain": [
              "<Figure size 360x360 with 1 Axes>"
            ]
          },
          "metadata": {
            "tags": [],
            "needs_background": "light"
          }
        },
        {
          "output_type": "display_data",
          "data": {
            "image/png": "[encoded data removed]",
            "text/plain": [
              "<Figure size 360x360 with 1 Axes>"
            ]
          },
          "metadata": {
            "tags": [],
            "needs_background": "light"
          }
        }
      ]
    },
    {
      "cell_type": "markdown",
      "metadata": {
        "id": "m0gQeAqLx-Es"
      },
      "source": [
        "##Handling Outlier\r\n",
        "There is outlier for some features, so we handling it with IQR method"
      ]
    },
    {
      "cell_type": "code",
      "metadata": {
        "id": "io4Hocxnxmzv"
      },
      "source": [
        "for column in list (df.columns) : \r\n",
        "  if df[column].dtype != np.number: continue\r\n",
        "  q3 = np.percentile(df[column].dropna(),75)\r\n",
        "  q1 = np.percentile(df[column].dropna(),25)\r\n",
        "  iqr = q3 - q1\r\n",
        "  upper_limit = q3 + (iqr*1.5)\r\n",
        "  lower_limit = q1 - (iqr*1.5)\r\n",
        "  par = df[column]\r\n",
        "  temp = []\r\n",
        "  for item in df[column]:\r\n",
        "    if item >= upper_limit :\r\n",
        "      temp.append(upper_limit)\r\n",
        "    elif item <= lower_limit :\r\n",
        "      temp.append(lower_limit)\r\n",
        "    else:\r\n",
        "      temp.append(item)\r\n",
        "  df[column] = temp"
      ],
      "execution_count": 23,
      "outputs": []
    },
    {
      "cell_type": "markdown",
      "metadata": {
        "id": "yL3KIggk6HxV"
      },
      "source": [
        "##Standardization"
      ]
    },
    {
      "cell_type": "code",
      "metadata": {
        "id": "XOHfXNmF6KX9"
      },
      "source": [
        "df_num = df.select_dtypes(include = ['float64', 'int64'])\r\n",
        "df_cat = df.select_dtypes(include = ['object'])\r\n",
        "\r\n",
        "from sklearn.preprocessing import StandardScaler\r\n",
        "\r\n",
        "df_ss = StandardScaler().fit_transform(df_num)\r\n",
        "df_ss = pd.DataFrame(df_ss, columns=df_num.columns)\r\n",
        "\r\n",
        "df = pd.concat([df_ss.reset_index(drop=True), df_cat.reset_index(drop=True)],axis=1)"
      ],
      "execution_count": 24,
      "outputs": []
    },
    {
      "cell_type": "markdown",
      "metadata": {
        "id": "GmnunV6O9Fr0"
      },
      "source": [
        "##Encoding Data\r\n",
        "\r\n",
        "Transform categorical features to numeric"
      ]
    },
    {
      "cell_type": "code",
      "metadata": {
        "id": "Sfk0WG7p9FFf"
      },
      "source": [
        "from sklearn.preprocessing import LabelEncoder\r\n",
        "for column in df.columns : \r\n",
        "  if df [column].dtype == np.number:continue\r\n",
        "  df[column] = LabelEncoder().fit_transform(df[column])"
      ],
      "execution_count": 25,
      "outputs": []
    },
    {
      "cell_type": "code",
      "metadata": {
        "colab": {
          "base_uri": "https://localhost:8080/",
          "height": 648
        },
        "id": "wFjRcrh_9tQF",
        "outputId": "be87f308-8897-489d-a748-e9023c41c909"
      },
      "source": [
        "df.describe().transpose()"
      ],
      "execution_count": 26,
      "outputs": [
        {
          "output_type": "execute_result",
          "data": {
            "text/html": [
              "<div>\n",
              "<style scoped>\n",
              "    .dataframe tbody tr th:only-of-type {\n",
              "        vertical-align: middle;\n",
              "    }\n",
              "\n",
              "    .dataframe tbody tr th {\n",
              "        vertical-align: top;\n",
              "    }\n",
              "\n",
              "    .dataframe thead th {\n",
              "        text-align: right;\n",
              "    }\n",
              "</style>\n",
              "<table border=\"1\" class=\"dataframe\">\n",
              "  <thead>\n",
              "    <tr style=\"text-align: right;\">\n",
              "      <th></th>\n",
              "      <th>count</th>\n",
              "      <th>mean</th>\n",
              "      <th>std</th>\n",
              "      <th>min</th>\n",
              "      <th>25%</th>\n",
              "      <th>50%</th>\n",
              "      <th>75%</th>\n",
              "      <th>max</th>\n",
              "    </tr>\n",
              "  </thead>\n",
              "  <tbody>\n",
              "    <tr>\n",
              "      <th>account_length</th>\n",
              "      <td>4250.0</td>\n",
              "      <td>-5.774466e-17</td>\n",
              "      <td>1.000118</td>\n",
              "      <td>-2.500048</td>\n",
              "      <td>-0.686160</td>\n",
              "      <td>-0.005951</td>\n",
              "      <td>0.674257</td>\n",
              "      <td>3.596633</td>\n",
              "    </tr>\n",
              "    <tr>\n",
              "      <th>number_vmail_messages</th>\n",
              "      <td>4250.0</td>\n",
              "      <td>3.798269e-17</td>\n",
              "      <td>1.000118</td>\n",
              "      <td>-0.567911</td>\n",
              "      <td>-0.567911</td>\n",
              "      <td>-0.567911</td>\n",
              "      <td>0.622715</td>\n",
              "      <td>3.301625</td>\n",
              "    </tr>\n",
              "    <tr>\n",
              "      <th>total_day_minutes</th>\n",
              "      <td>4250.0</td>\n",
              "      <td>1.683882e-16</td>\n",
              "      <td>1.000118</td>\n",
              "      <td>-2.720923</td>\n",
              "      <td>-0.687478</td>\n",
              "      <td>0.003126</td>\n",
              "      <td>0.668151</td>\n",
              "      <td>2.701596</td>\n",
              "    </tr>\n",
              "    <tr>\n",
              "      <th>total_day_calls</th>\n",
              "      <td>4250.0</td>\n",
              "      <td>1.903608e-16</td>\n",
              "      <td>1.000118</td>\n",
              "      <td>-5.033498</td>\n",
              "      <td>-0.650291</td>\n",
              "      <td>0.004671</td>\n",
              "      <td>0.659633</td>\n",
              "      <td>3.279480</td>\n",
              "    </tr>\n",
              "    <tr>\n",
              "      <th>total_day_charge</th>\n",
              "      <td>4250.0</td>\n",
              "      <td>-5.804246e-16</td>\n",
              "      <td>1.000118</td>\n",
              "      <td>-2.720442</td>\n",
              "      <td>-0.687576</td>\n",
              "      <td>0.003451</td>\n",
              "      <td>0.667668</td>\n",
              "      <td>2.700534</td>\n",
              "    </tr>\n",
              "    <tr>\n",
              "      <th>total_eve_minutes</th>\n",
              "      <td>4250.0</td>\n",
              "      <td>-3.866711e-16</td>\n",
              "      <td>1.000118</td>\n",
              "      <td>-2.725633</td>\n",
              "      <td>-0.686925</td>\n",
              "      <td>0.009671</td>\n",
              "      <td>0.672214</td>\n",
              "      <td>2.710922</td>\n",
              "    </tr>\n",
              "    <tr>\n",
              "      <th>total_eve_calls</th>\n",
              "      <td>4250.0</td>\n",
              "      <td>1.949943e-16</td>\n",
              "      <td>1.000118</td>\n",
              "      <td>-5.032413</td>\n",
              "      <td>-0.661926</td>\n",
              "      <td>-0.008865</td>\n",
              "      <td>0.694432</td>\n",
              "      <td>3.507619</td>\n",
              "    </tr>\n",
              "    <tr>\n",
              "      <th>total_eve_charge</th>\n",
              "      <td>4250.0</td>\n",
              "      <td>-6.996234e-16</td>\n",
              "      <td>1.000118</td>\n",
              "      <td>-2.725209</td>\n",
              "      <td>-0.687255</td>\n",
              "      <td>0.009738</td>\n",
              "      <td>0.671381</td>\n",
              "      <td>2.709335</td>\n",
              "    </tr>\n",
              "    <tr>\n",
              "      <th>total_night_minutes</th>\n",
              "      <td>4250.0</td>\n",
              "      <td>4.457350e-16</td>\n",
              "      <td>1.000118</td>\n",
              "      <td>-2.697630</td>\n",
              "      <td>-0.667518</td>\n",
              "      <td>-0.001094</td>\n",
              "      <td>0.685889</td>\n",
              "      <td>2.716001</td>\n",
              "    </tr>\n",
              "    <tr>\n",
              "      <th>total_night_calls</th>\n",
              "      <td>4250.0</td>\n",
              "      <td>2.640641e-16</td>\n",
              "      <td>1.000118</td>\n",
              "      <td>-4.969402</td>\n",
              "      <td>-0.688847</td>\n",
              "      <td>0.007987</td>\n",
              "      <td>0.655048</td>\n",
              "      <td>3.741029</td>\n",
              "    </tr>\n",
              "    <tr>\n",
              "      <th>total_night_charge</th>\n",
              "      <td>4250.0</td>\n",
              "      <td>-7.962258e-17</td>\n",
              "      <td>1.000118</td>\n",
              "      <td>-2.699530</td>\n",
              "      <td>-0.668722</td>\n",
              "      <td>-0.001258</td>\n",
              "      <td>0.685150</td>\n",
              "      <td>2.715958</td>\n",
              "    </tr>\n",
              "    <tr>\n",
              "      <th>total_intl_minutes</th>\n",
              "      <td>4250.0</td>\n",
              "      <td>6.640440e-17</td>\n",
              "      <td>1.000118</td>\n",
              "      <td>-2.623172</td>\n",
              "      <td>-0.661904</td>\n",
              "      <td>0.010530</td>\n",
              "      <td>0.645607</td>\n",
              "      <td>2.606875</td>\n",
              "    </tr>\n",
              "    <tr>\n",
              "      <th>total_intl_calls</th>\n",
              "      <td>4250.0</td>\n",
              "      <td>-4.016656e-16</td>\n",
              "      <td>1.000118</td>\n",
              "      <td>-1.797300</td>\n",
              "      <td>-0.579164</td>\n",
              "      <td>-0.173119</td>\n",
              "      <td>0.638972</td>\n",
              "      <td>6.323606</td>\n",
              "    </tr>\n",
              "    <tr>\n",
              "      <th>total_intl_charge</th>\n",
              "      <td>4250.0</td>\n",
              "      <td>-3.747590e-16</td>\n",
              "      <td>1.000118</td>\n",
              "      <td>-2.608221</td>\n",
              "      <td>-0.656179</td>\n",
              "      <td>0.008346</td>\n",
              "      <td>0.645182</td>\n",
              "      <td>2.597224</td>\n",
              "    </tr>\n",
              "    <tr>\n",
              "      <th>number_customer_service_calls</th>\n",
              "      <td>4250.0</td>\n",
              "      <td>1.022450e-16</td>\n",
              "      <td>1.000118</td>\n",
              "      <td>-1.188960</td>\n",
              "      <td>-0.426346</td>\n",
              "      <td>-0.426346</td>\n",
              "      <td>0.336268</td>\n",
              "      <td>5.674566</td>\n",
              "    </tr>\n",
              "    <tr>\n",
              "      <th>state</th>\n",
              "      <td>4250.0</td>\n",
              "      <td>2.609412e+01</td>\n",
              "      <td>14.769049</td>\n",
              "      <td>0.000000</td>\n",
              "      <td>14.000000</td>\n",
              "      <td>26.000000</td>\n",
              "      <td>39.000000</td>\n",
              "      <td>50.000000</td>\n",
              "    </tr>\n",
              "    <tr>\n",
              "      <th>area_code</th>\n",
              "      <td>4250.0</td>\n",
              "      <td>9.929412e-01</td>\n",
              "      <td>0.709978</td>\n",
              "      <td>0.000000</td>\n",
              "      <td>0.000000</td>\n",
              "      <td>1.000000</td>\n",
              "      <td>1.000000</td>\n",
              "      <td>2.000000</td>\n",
              "    </tr>\n",
              "    <tr>\n",
              "      <th>international_plan</th>\n",
              "      <td>4250.0</td>\n",
              "      <td>9.317647e-02</td>\n",
              "      <td>0.290714</td>\n",
              "      <td>0.000000</td>\n",
              "      <td>0.000000</td>\n",
              "      <td>0.000000</td>\n",
              "      <td>0.000000</td>\n",
              "      <td>1.000000</td>\n",
              "    </tr>\n",
              "    <tr>\n",
              "      <th>voice_mail_plan</th>\n",
              "      <td>4250.0</td>\n",
              "      <td>2.616471e-01</td>\n",
              "      <td>0.439583</td>\n",
              "      <td>0.000000</td>\n",
              "      <td>0.000000</td>\n",
              "      <td>0.000000</td>\n",
              "      <td>1.000000</td>\n",
              "      <td>1.000000</td>\n",
              "    </tr>\n",
              "    <tr>\n",
              "      <th>churn</th>\n",
              "      <td>4250.0</td>\n",
              "      <td>1.407059e-01</td>\n",
              "      <td>0.347759</td>\n",
              "      <td>0.000000</td>\n",
              "      <td>0.000000</td>\n",
              "      <td>0.000000</td>\n",
              "      <td>0.000000</td>\n",
              "      <td>1.000000</td>\n",
              "    </tr>\n",
              "  </tbody>\n",
              "</table>\n",
              "</div>"
            ],
            "text/plain": [
              "                                count          mean  ...        75%        max\n",
              "account_length                 4250.0 -5.774466e-17  ...   0.674257   3.596633\n",
              "number_vmail_messages          4250.0  3.798269e-17  ...   0.622715   3.301625\n",
              "total_day_minutes              4250.0  1.683882e-16  ...   0.668151   2.701596\n",
              "total_day_calls                4250.0  1.903608e-16  ...   0.659633   3.279480\n",
              "total_day_charge               4250.0 -5.804246e-16  ...   0.667668   2.700534\n",
              "total_eve_minutes              4250.0 -3.866711e-16  ...   0.672214   2.710922\n",
              "total_eve_calls                4250.0  1.949943e-16  ...   0.694432   3.507619\n",
              "total_eve_charge               4250.0 -6.996234e-16  ...   0.671381   2.709335\n",
              "total_night_minutes            4250.0  4.457350e-16  ...   0.685889   2.716001\n",
              "total_night_calls              4250.0  2.640641e-16  ...   0.655048   3.741029\n",
              "total_night_charge             4250.0 -7.962258e-17  ...   0.685150   2.715958\n",
              "total_intl_minutes             4250.0  6.640440e-17  ...   0.645607   2.606875\n",
              "total_intl_calls               4250.0 -4.016656e-16  ...   0.638972   6.323606\n",
              "total_intl_charge              4250.0 -3.747590e-16  ...   0.645182   2.597224\n",
              "number_customer_service_calls  4250.0  1.022450e-16  ...   0.336268   5.674566\n",
              "state                          4250.0  2.609412e+01  ...  39.000000  50.000000\n",
              "area_code                      4250.0  9.929412e-01  ...   1.000000   2.000000\n",
              "international_plan             4250.0  9.317647e-02  ...   0.000000   1.000000\n",
              "voice_mail_plan                4250.0  2.616471e-01  ...   1.000000   1.000000\n",
              "churn                          4250.0  1.407059e-01  ...   0.000000   1.000000\n",
              "\n",
              "[20 rows x 8 columns]"
            ]
          },
          "metadata": {
            "tags": []
          },
          "execution_count": 26
        }
      ]
    },
    {
      "cell_type": "markdown",
      "metadata": {
        "id": "EqhiBu4M95DA"
      },
      "source": [
        "##Splitting Data"
      ]
    },
    {
      "cell_type": "code",
      "metadata": {
        "id": "SZ6pAW2L92e4"
      },
      "source": [
        "from sklearn.model_selection import train_test_split\r\n",
        "x=df.drop(\"churn\",axis=1)\r\n",
        "y=df[\"churn\"]\r\n",
        "x_train, x_test, y_train, y_test = train_test_split(x, y, test_size=0.3, random_state=101, stratify=y)"
      ],
      "execution_count": 27,
      "outputs": []
    },
    {
      "cell_type": "markdown",
      "metadata": {
        "id": "hgQWsX1vTc31"
      },
      "source": [
        "##Handling Imbalanced Data"
      ]
    },
    {
      "cell_type": "code",
      "metadata": {
        "colab": {
          "base_uri": "https://localhost:8080/"
        },
        "id": "OqyfjcmZTZ8j",
        "outputId": "759c6499-db60-4c84-8bc6-8ae6b463685d"
      },
      "source": [
        "from sklearn.utils import resample\r\n",
        "\r\n",
        "X = pd.concat([x_train, y_train], axis=1)\r\n",
        "\r\n",
        "not_churn = X[X.churn==0]\r\n",
        "churn = X[X.churn==1]\r\n",
        "\r\n",
        "churn_upsampled = resample(churn,\r\n",
        "                          replace=True, # sample with replacement\r\n",
        "                          n_samples=len(not_churn), # match number in majority class\r\n",
        "                          random_state=27) # reproducible results\r\n",
        "\r\n",
        "upsampled = pd.concat([not_churn, churn_upsampled])\r\n",
        "\r\n",
        "print(upsampled.churn.value_counts())\r\n",
        "\r\n",
        "y_train = upsampled.churn\r\n",
        "x_train = upsampled.drop('churn', axis=1)"
      ],
      "execution_count": 28,
      "outputs": [
        {
          "output_type": "stream",
          "text": [
            "1    2556\n",
            "0    2556\n",
            "Name: churn, dtype: int64\n"
          ],
          "name": "stdout"
        }
      ]
    },
    {
      "cell_type": "markdown",
      "metadata": {
        "id": "HgWgSP_37YCq"
      },
      "source": [
        "#Modelling"
      ]
    },
    {
      "cell_type": "markdown",
      "metadata": {
        "id": "kT3Li0XL-SBc"
      },
      "source": [
        "##Algorithm Selection"
      ]
    },
    {
      "cell_type": "code",
      "metadata": {
        "colab": {
          "base_uri": "https://localhost:8080/",
          "height": 657
        },
        "id": "mM2PMcda-QtG",
        "outputId": "f2e12de4-6537-4dee-9668-2a68579c4d76"
      },
      "source": [
        "from sklearn.model_selection import cross_val_score\r\n",
        "from sklearn.linear_model import LogisticRegression\r\n",
        "from sklearn.tree import DecisionTreeClassifier\r\n",
        "from sklearn.ensemble import RandomForestClassifier\r\n",
        "from lightgbm import LGBMClassifier\r\n",
        "from xgboost import XGBClassifier\r\n",
        "from sklearn.metrics import classification_report, confusion_matrix, f1_score, accuracy_score, recall_score\r\n",
        "\r\n",
        "algorithm = [LogisticRegression, DecisionTreeClassifier, RandomForestClassifier, LGBMClassifier,XGBClassifier]\r\n",
        "algo_name = ['LogisticRegression','DecisionTreeClassifier','RandomForestClassifier','LGBMClassifier','XGBClassifier']\r\n",
        "algo_ACCScore = []\r\n",
        "algo_F1Score = []\r\n",
        "algo_RecallScore = []\r\n",
        "\r\n",
        "for item in algorithm:\r\n",
        "    model = item()\r\n",
        "    F1Scores = cross_val_score(model,x_train,y_train,cv=30,scoring='f1_macro').mean()\r\n",
        "    ACCScore = cross_val_score(model,x_train,y_train,cv=30,scoring='accuracy').mean()\r\n",
        "    RecallScore = cross_val_score(model,x_train,y_train,cv=30,scoring='recall').mean()\r\n",
        "    algo_ACCScore.append(ACCScore)\r\n",
        "    algo_F1Score.append(F1Scores)\r\n",
        "    algo_RecallScore.append(RecallScore)\r\n",
        "    \r\n",
        "df_algo = pd.DataFrame({\r\n",
        "    'Algorithm' : algo_name,\r\n",
        "    'Accuracy' : algo_ACCScore,\r\n",
        "    'F1 Score' : algo_F1Score,\r\n",
        "    'Recall Score' : algo_RecallScore,\r\n",
        "})\r\n",
        "\r\n",
        "plt.figure(figsize=(14,9))   \r\n",
        "# Perbandingan algoritma berdasarkan akurasi              \r\n",
        "plt.subplot(3,1,1)\r\n",
        "sns.barplot(data=df_algo,y='Algorithm',x='Accuracy')\r\n",
        "# Perbandingan algorim berdasarkan F1 Score\r\n",
        "plt.subplot(3,1,2)\r\n",
        "sns.barplot(data=df_algo,y='Algorithm',x='F1 Score')\r\n",
        "# Perbandingan algoritma berdasarkan Recall Score\r\n",
        "plt.subplot(3,1,3)\r\n",
        "sns.barplot(data=df_algo,y='Algorithm',x='Recall Score')\r\n",
        "\r\n",
        "plt.tight_layout()"
      ],
      "execution_count": 29,
      "outputs": [
        {
          "output_type": "display_data",
          "data": {
            "image/png": "[encoded data removed]",
            "text/plain": [
              "<Figure size 1008x648 with 3 Axes>"
            ]
          },
          "metadata": {
            "tags": [],
            "needs_background": "light"
          }
        }
      ]
    },
    {
      "cell_type": "code",
      "metadata": {
        "colab": {
          "base_uri": "https://localhost:8080/",
          "height": 198
        },
        "id": "T0nAmx9ie2Qz",
        "outputId": "510e0abc-c2cf-496a-a184-90e1d7f69b44"
      },
      "source": [
        "df_algo"
      ],
      "execution_count": 30,
      "outputs": [
        {
          "output_type": "execute_result",
          "data": {
            "text/html": [
              "<div>\n",
              "<style scoped>\n",
              "    .dataframe tbody tr th:only-of-type {\n",
              "        vertical-align: middle;\n",
              "    }\n",
              "\n",
              "    .dataframe tbody tr th {\n",
              "        vertical-align: top;\n",
              "    }\n",
              "\n",
              "    .dataframe thead th {\n",
              "        text-align: right;\n",
              "    }\n",
              "</style>\n",
              "<table border=\"1\" class=\"dataframe\">\n",
              "  <thead>\n",
              "    <tr style=\"text-align: right;\">\n",
              "      <th></th>\n",
              "      <th>Algorithm</th>\n",
              "      <th>Accuracy</th>\n",
              "      <th>F1 Score</th>\n",
              "      <th>Recall Score</th>\n",
              "    </tr>\n",
              "  </thead>\n",
              "  <tbody>\n",
              "    <tr>\n",
              "      <th>0</th>\n",
              "      <td>LogisticRegression</td>\n",
              "      <td>0.768787</td>\n",
              "      <td>0.768488</td>\n",
              "      <td>0.767287</td>\n",
              "    </tr>\n",
              "    <tr>\n",
              "      <th>1</th>\n",
              "      <td>DecisionTreeClassifier</td>\n",
              "      <td>0.972814</td>\n",
              "      <td>0.974347</td>\n",
              "      <td>0.999608</td>\n",
              "    </tr>\n",
              "    <tr>\n",
              "      <th>2</th>\n",
              "      <td>RandomForestClassifier</td>\n",
              "      <td>0.993540</td>\n",
              "      <td>0.994126</td>\n",
              "      <td>0.999608</td>\n",
              "    </tr>\n",
              "    <tr>\n",
              "      <th>3</th>\n",
              "      <td>LGBMClassifier</td>\n",
              "      <td>0.990022</td>\n",
              "      <td>0.990019</td>\n",
              "      <td>1.000000</td>\n",
              "    </tr>\n",
              "    <tr>\n",
              "      <th>4</th>\n",
              "      <td>XGBClassifier</td>\n",
              "      <td>0.904542</td>\n",
              "      <td>0.904359</td>\n",
              "      <td>0.868573</td>\n",
              "    </tr>\n",
              "  </tbody>\n",
              "</table>\n",
              "</div>"
            ],
            "text/plain": [
              "                Algorithm  Accuracy  F1 Score  Recall Score\n",
              "0      LogisticRegression  0.768787  0.768488      0.767287\n",
              "1  DecisionTreeClassifier  0.972814  0.974347      0.999608\n",
              "2  RandomForestClassifier  0.993540  0.994126      0.999608\n",
              "3          LGBMClassifier  0.990022  0.990019      1.000000\n",
              "4           XGBClassifier  0.904542  0.904359      0.868573"
            ]
          },
          "metadata": {
            "tags": []
          },
          "execution_count": 30
        }
      ]
    },
    {
      "cell_type": "markdown",
      "metadata": {
        "id": "rmdDHBpx8qxF"
      },
      "source": [
        "##Classification Report"
      ]
    },
    {
      "cell_type": "code",
      "metadata": {
        "colab": {
          "base_uri": "https://localhost:8080/"
        },
        "id": "jmSUZCnsAElF",
        "outputId": "853e1e9b-f20a-42b9-caa5-79be8fd51b64"
      },
      "source": [
        "lgbm = LGBMClassifier(random_state=101)\r\n",
        "lgbm.fit(x_train,y_train)\r\n",
        "y_pred = lgbm.predict(x_test)\r\n",
        "\r\n",
        "print('--------------- Classification Report LGBM Classifier ---------------')\r\n",
        "print(classification_report(y_test,y_pred))\r\n",
        "tn, fp, fn, tp = confusion_matrix(y_test,y_pred).ravel()\r\n",
        "print('TN :',tn,' FP :',fp,' Fn :' ,fn,' TP :' ,tp)"
      ],
      "execution_count": 31,
      "outputs": [
        {
          "output_type": "stream",
          "text": [
            "--------------- Classification Report LGBM Classifier ---------------\n",
            "              precision    recall  f1-score   support\n",
            "\n",
            "           0       0.97      0.99      0.98      1096\n",
            "           1       0.93      0.81      0.87       179\n",
            "\n",
            "    accuracy                           0.96      1275\n",
            "   macro avg       0.95      0.90      0.92      1275\n",
            "weighted avg       0.96      0.96      0.96      1275\n",
            "\n",
            "TN : 1085  FP : 11  Fn : 34  TP : 145\n"
          ],
          "name": "stdout"
        }
      ]
    },
    {
      "cell_type": "code",
      "metadata": {
        "colab": {
          "base_uri": "https://localhost:8080/"
        },
        "id": "BNBDGWsDbDuT",
        "outputId": "c6de7c44-0559-4561-cedc-20780f671e7b"
      },
      "source": [
        "rf = RandomForestClassifier(random_state=101)\r\n",
        "rf.fit(x_train,y_train)\r\n",
        "y_pred_rf = rf.predict(x_test)\r\n",
        "\r\n",
        "print('--------------- Classification Report Random Forest Classifier ---------------')\r\n",
        "print(classification_report(y_test,y_pred_rf))\r\n",
        "tn, fp, fn, tp = confusion_matrix(y_test,y_pred_rf).ravel()\r\n",
        "print('TN :',tn,' FP :',fp,' Fn :' ,fn,' TP :' ,tp)"
      ],
      "execution_count": 32,
      "outputs": [
        {
          "output_type": "stream",
          "text": [
            "--------------- Classification Report Random Forest Classifier ---------------\n",
            "              precision    recall  f1-score   support\n",
            "\n",
            "           0       0.96      0.99      0.97      1096\n",
            "           1       0.92      0.75      0.82       179\n",
            "\n",
            "    accuracy                           0.96      1275\n",
            "   macro avg       0.94      0.87      0.90      1275\n",
            "weighted avg       0.95      0.96      0.95      1275\n",
            "\n",
            "TN : 1084  FP : 12  Fn : 45  TP : 134\n"
          ],
          "name": "stdout"
        }
      ]
    },
    {
      "cell_type": "code",
      "metadata": {
        "colab": {
          "base_uri": "https://localhost:8080/"
        },
        "id": "RuANEP9zjenX",
        "outputId": "2013449a-d613-488f-b308-6f96600617bc"
      },
      "source": [
        "dt = DecisionTreeClassifier(random_state=101)\r\n",
        "dt.fit(x_train,y_train)\r\n",
        "y_pred_dt = dt.predict(x_test)\r\n",
        "\r\n",
        "print('--------------- Classification Report XGB Classifier ---------------')\r\n",
        "print(classification_report(y_test,y_pred_dt))\r\n",
        "tn, fp, fn, tp = confusion_matrix(y_test,y_pred_dt).ravel()\r\n",
        "print('TN :',tn,' FP :',fp,' Fn :' ,fn,' TP :' ,tp)"
      ],
      "execution_count": 33,
      "outputs": [
        {
          "output_type": "stream",
          "text": [
            "--------------- Classification Report XGB Classifier ---------------\n",
            "              precision    recall  f1-score   support\n",
            "\n",
            "           0       0.96      0.96      0.96      1096\n",
            "           1       0.76      0.73      0.74       179\n",
            "\n",
            "    accuracy                           0.93      1275\n",
            "   macro avg       0.86      0.84      0.85      1275\n",
            "weighted avg       0.93      0.93      0.93      1275\n",
            "\n",
            "TN : 1054  FP : 42  Fn : 49  TP : 130\n"
          ],
          "name": "stdout"
        }
      ]
    },
    {
      "cell_type": "code",
      "metadata": {
        "colab": {
          "base_uri": "https://localhost:8080/"
        },
        "id": "v7xutNqKbmuJ",
        "outputId": "c11d70db-42e3-411a-9b35-c41c9d94b71d"
      },
      "source": [
        "xgb = XGBClassifier(random_state=101)\r\n",
        "xgb.fit(x_train,y_train)\r\n",
        "y_pred_xgb = xgb.predict(x_test)\r\n",
        "\r\n",
        "print('--------------- Classification Report XGB Classifier ---------------')\r\n",
        "print(classification_report(y_test,y_pred_xgb))\r\n",
        "tn, fp, fn, tp = confusion_matrix(y_test,y_pred_xgb).ravel()\r\n",
        "print('TN :',tn,' FP :',fp,' Fn :' ,fn,' TP :' ,tp)"
      ],
      "execution_count": 34,
      "outputs": [
        {
          "output_type": "stream",
          "text": [
            "--------------- Classification Report XGB Classifier ---------------\n",
            "              precision    recall  f1-score   support\n",
            "\n",
            "           0       0.97      0.95      0.96      1096\n",
            "           1       0.73      0.85      0.79       179\n",
            "\n",
            "    accuracy                           0.94      1275\n",
            "   macro avg       0.85      0.90      0.87      1275\n",
            "weighted avg       0.94      0.94      0.94      1275\n",
            "\n",
            "TN : 1041  FP : 55  Fn : 27  TP : 152\n"
          ],
          "name": "stdout"
        }
      ]
    },
    {
      "cell_type": "markdown",
      "metadata": {
        "id": "oNURbsf13jr_"
      },
      "source": [
        "##Feature Importances"
      ]
    },
    {
      "cell_type": "code",
      "metadata": {
        "colab": {
          "base_uri": "https://localhost:8080/",
          "height": 369
        },
        "id": "m9F_r4GS2pqf",
        "outputId": "f72ae07e-9e0b-46bd-98c3-2f7ab512766d"
      },
      "source": [
        "# feature importances with XGB Classifier\r\n",
        "score = pd.DataFrame(xgb.feature_importances_, columns=['Score'])\r\n",
        "score['Column'] = x.columns\r\n",
        "score.head()\r\n",
        "# plot feature importances\r\n",
        "new_score = score.sort_values(by='Score',ascending=False)\r\n",
        "sns.barplot(data=new_score[:10],x='Score',y='Column').set_title('Feature Importance')\r\n",
        "plt.tight_layout()"
      ],
      "execution_count": 35,
      "outputs": [
        {
          "output_type": "display_data",
          "data": {
            "image/png": "[encoded data removed]",
            "text/plain": [
              "<Figure size 360x360 with 1 Axes>"
            ]
          },
          "metadata": {
            "tags": [],
            "needs_background": "light"
          }
        }
      ]
    },
    {
      "cell_type": "code",
      "metadata": {
        "colab": {
          "base_uri": "https://localhost:8080/",
          "height": 369
        },
        "id": "jffGHkuIjJWP",
        "outputId": "f69751db-3d2d-4c9e-be57-c8ee9a4616ae"
      },
      "source": [
        "# feature importances with LGBM Classifier\r\n",
        "score = pd.DataFrame(lgbm.feature_importances_, columns=['Score'])\r\n",
        "score['Column'] = x.columns\r\n",
        "score.head()\r\n",
        "# plot feature importances\r\n",
        "new_score = score.sort_values(by='Score',ascending=False)\r\n",
        "sns.barplot(data=new_score[:10],x='Score',y='Column').set_title('Feature Importance')\r\n",
        "plt.tight_layout()"
      ],
      "execution_count": 36,
      "outputs": [
        {
          "output_type": "display_data",
          "data": {
            "image/png": "[encoded data removed]",
            "text/plain": [
              "<Figure size 360x360 with 1 Axes>"
            ]
          },
          "metadata": {
            "tags": [],
            "needs_background": "light"
          }
        }
      ]
    },
    {
      "cell_type": "code",
      "metadata": {
        "colab": {
          "base_uri": "https://localhost:8080/",
          "height": 369
        },
        "id": "QjYspib-jQyA",
        "outputId": "ad91329c-4eff-4cce-e2e6-fff0b13a30c5"
      },
      "source": [
        "# feature importances with Random Forest\r\n",
        "score = pd.DataFrame(rf.feature_importances_, columns=['Score'])\r\n",
        "score['Column'] = x.columns\r\n",
        "score.head()\r\n",
        "# plot feature importances\r\n",
        "new_score = score.sort_values(by='Score',ascending=False)\r\n",
        "sns.barplot(data=new_score[:10],x='Score',y='Column').set_title('Feature Importance')\r\n",
        "plt.tight_layout()"
      ],
      "execution_count": 37,
      "outputs": [
        {
          "output_type": "display_data",
          "data": {
            "image/png": "[encoded data removed]",
            "text/plain": [
              "<Figure size 360x360 with 1 Axes>"
            ]
          },
          "metadata": {
            "tags": [],
            "needs_background": "light"
          }
        }
      ]
    },
    {
      "cell_type": "code",
      "metadata": {
        "colab": {
          "base_uri": "https://localhost:8080/",
          "height": 369
        },
        "id": "UQD2gpUbj6fx",
        "outputId": "633e1082-7a6f-4c3a-f5cc-f7f370e2b951"
      },
      "source": [
        "# feature importances with Decision Tree\r\n",
        "score = pd.DataFrame(dt.feature_importances_, columns=['Score'])\r\n",
        "score['Column'] = x.columns\r\n",
        "score.head()\r\n",
        "# plot feature importances\r\n",
        "new_score = score.sort_values(by='Score',ascending=False)\r\n",
        "sns.barplot(data=new_score[:10],x='Score',y='Column').set_title('Feature Importance')\r\n",
        "plt.tight_layout()"
      ],
      "execution_count": 38,
      "outputs": [
        {
          "output_type": "display_data",
          "data": {
            "image/png": "[encoded data removed]",
            "text/plain": [
              "<Figure size 360x360 with 1 Axes>"
            ]
          },
          "metadata": {
            "tags": [],
            "needs_background": "light"
          }
        }
      ]
    }
  ]
}